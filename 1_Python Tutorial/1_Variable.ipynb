{
 "cells": [
  {
   "cell_type": "code",
   "execution_count": 1,
   "id": "f21ed6fe-7e18-4fee-b46b-7e41dc7e7909",
   "metadata": {},
   "outputs": [],
   "source": [
    "can=\"soda\""
   ]
  },
  {
   "cell_type": "code",
   "execution_count": 2,
   "id": "9eab9b3c-11f5-4794-b1ba-7132173e9c02",
   "metadata": {},
   "outputs": [
    {
     "data": {
      "text/plain": [
       "'soda'"
      ]
     },
     "execution_count": 2,
     "metadata": {},
     "output_type": "execute_result"
    }
   ],
   "source": [
    "can\n"
   ]
  },
  {
   "cell_type": "code",
   "execution_count": 3,
   "id": "a842701b-9de4-464c-8587-6c658c6db7aa",
   "metadata": {},
   "outputs": [],
   "source": [
    "can=\"beans\""
   ]
  },
  {
   "cell_type": "code",
   "execution_count": 5,
   "id": "cf0fca5e-29b5-4299-bdc1-ff5926c1cbb5",
   "metadata": {},
   "outputs": [
    {
     "name": "stdout",
     "output_type": "stream",
     "text": [
      "beans\n"
     ]
    }
   ],
   "source": [
    "print(can)"
   ]
  },
  {
   "cell_type": "code",
   "execution_count": 6,
   "id": "04b178fa-54cf-4fd6-bd1c-11618178f259",
   "metadata": {},
   "outputs": [
    {
     "data": {
      "text/plain": [
       "str"
      ]
     },
     "execution_count": 6,
     "metadata": {},
     "output_type": "execute_result"
    }
   ],
   "source": [
    "type(can)"
   ]
  },
  {
   "cell_type": "code",
   "execution_count": 7,
   "id": "4b1a4428-eda5-4f13-86f9-0c78f5e45a42",
   "metadata": {},
   "outputs": [
    {
     "data": {
      "text/plain": [
       "100"
      ]
     },
     "execution_count": 7,
     "metadata": {},
     "output_type": "execute_result"
    }
   ],
   "source": [
    "pizza=100\n",
    "pizza"
   ]
  },
  {
   "cell_type": "code",
   "execution_count": 8,
   "id": "d72e857c-25bb-4dee-ba94-91cb2451eff5",
   "metadata": {},
   "outputs": [
    {
     "data": {
      "text/plain": [
       "int"
      ]
     },
     "execution_count": 8,
     "metadata": {},
     "output_type": "execute_result"
    }
   ],
   "source": [
    "type(pizza)"
   ]
  },
  {
   "cell_type": "code",
   "execution_count": 9,
   "id": "6b3056a3-0088-4645-b23f-5056af7fa0a6",
   "metadata": {},
   "outputs": [],
   "source": [
    "samosa=20.5\n",
    "ice_cream=100"
   ]
  },
  {
   "cell_type": "code",
   "execution_count": 10,
   "id": "35531b70-9561-49c0-92e6-434c14076fa1",
   "metadata": {},
   "outputs": [
    {
     "data": {
      "text/plain": [
       "220.5"
      ]
     },
     "execution_count": 10,
     "metadata": {},
     "output_type": "execute_result"
    }
   ],
   "source": [
    "total=pizza+samosa+ice_cream\n",
    "total"
   ]
  },
  {
   "cell_type": "code",
   "execution_count": 11,
   "id": "170a185c-2e9a-4db7-822e-572f34b82191",
   "metadata": {},
   "outputs": [
    {
     "data": {
      "text/plain": [
       "float"
      ]
     },
     "execution_count": 11,
     "metadata": {},
     "output_type": "execute_result"
    }
   ],
   "source": [
    "type(total)"
   ]
  },
  {
   "cell_type": "code",
   "execution_count": 12,
   "id": "1cc6edc0-4b3b-4d63-8523-a907221153cd",
   "metadata": {},
   "outputs": [
    {
     "data": {
      "text/plain": [
       "True"
      ]
     },
     "execution_count": 12,
     "metadata": {},
     "output_type": "execute_result"
    }
   ],
   "source": [
    "above_threshold=total>200\n",
    "above_threshold"
   ]
  },
  {
   "cell_type": "code",
   "execution_count": 17,
   "id": "abbf8f36-9d60-4742-a1ac-90471131ab5f",
   "metadata": {},
   "outputs": [],
   "source": [
    "# Everything in Python Every value that variable is storing is an object"
   ]
  },
  {
   "cell_type": "code",
   "execution_count": 19,
   "id": "668d9ce4-e7ba-4cb6-97ee-2f5e6ecb6401",
   "metadata": {},
   "outputs": [],
   "source": [
    "# lets create a varaible food \n",
    "food= \"Roti\""
   ]
  },
  {
   "cell_type": "code",
   "execution_count": 20,
   "id": "617129a0-f567-4952-ba84-d1da00e1c28e",
   "metadata": {},
   "outputs": [],
   "source": [
    "# I can Create a another varaible Bar and assign a value of food to it\n",
    "bar=food"
   ]
  },
  {
   "cell_type": "code",
   "execution_count": 21,
   "id": "57ce07e1-7b73-47ab-9031-7224ffc1856d",
   "metadata": {},
   "outputs": [
    {
     "data": {
      "text/plain": [
       "'Roti'"
      ]
     },
     "execution_count": 21,
     "metadata": {},
     "output_type": "execute_result"
    }
   ],
   "source": [
    "# So noew what will be the value of bar . well that should be \"Roti\"\n",
    "bar"
   ]
  },
  {
   "cell_type": "markdown",
   "id": "0124732a-0054-4716-bdcb-7dcf758b85f7",
   "metadata": {},
   "source": [
    " So What it did is it created an object in that it's stored this value \"Roti \" and its creat inf this  food short of like a pointer and it is just pointing it to \"Roti\"(Value)\n",
    " \n",
    " all done this with the help of id function in python\n",
    " \n",
    " so ID is function which is kind of unique indentifier for an object "
   ]
  },
  {
   "cell_type": "code",
   "execution_count": 23,
   "id": "8ca6bb37-96e5-4e52-8779-29cf26ac4be8",
   "metadata": {},
   "outputs": [
    {
     "data": {
      "text/plain": [
       "2548159987216"
      ]
     },
     "execution_count": 23,
     "metadata": {},
     "output_type": "execute_result"
    }
   ],
   "source": [
    "#Now if i do\n",
    "id(bar)"
   ]
  },
  {
   "cell_type": "code",
   "execution_count": 24,
   "id": "afcfee3c-7381-4e5b-b587-313f6825078a",
   "metadata": {},
   "outputs": [
    {
     "data": {
      "text/plain": [
       "2548159987216"
      ]
     },
     "execution_count": 24,
     "metadata": {},
     "output_type": "execute_result"
    }
   ],
   "source": [
    "#Now if i do\n",
    "id(food)"
   ]
  },
  {
   "cell_type": "markdown",
   "id": "69dfc900-b09f-464c-a266-c9d77985e1e5",
   "metadata": {},
   "source": [
    "See  they're all same, so what happened is  in memory you created an object stored \"roti\" vlue in it and now food and bar both are pointing to it "
   ]
  },
  {
   "cell_type": "code",
   "execution_count": 26,
   "id": "222389a3-3c7d-490d-83c7-4934f21e1c66",
   "metadata": {},
   "outputs": [],
   "source": [
    "#Now my bar is conataing \"Samosa\"\n",
    "bar=\"Samosa\""
   ]
  },
  {
   "cell_type": "code",
   "execution_count": 27,
   "id": "fd600fbb-e5ff-4efe-a361-e6ecfb6754da",
   "metadata": {},
   "outputs": [
    {
     "data": {
      "text/plain": [
       "2548159979488"
      ]
     },
     "execution_count": 27,
     "metadata": {},
     "output_type": "execute_result"
    }
   ],
   "source": [
    "# Now i print id of bar waht will happen?\n",
    "id(bar)"
   ]
  },
  {
   "cell_type": "markdown",
   "id": "983a388c-0002-4945-9a41-ee02ead620f3",
   "metadata": {},
   "source": [
    "Now , see the object id is diff beacuse when i created samosa here, it created new object memory and now bar is pointing to that"
   ]
  },
  {
   "cell_type": "code",
   "execution_count": null,
   "id": "88f7f93d-378f-4a79-927c-c20a074099ea",
   "metadata": {},
   "outputs": [],
   "source": []
  }
 ],
 "metadata": {
  "kernelspec": {
   "display_name": "Python 3 (ipykernel)",
   "language": "python",
   "name": "python3"
  },
  "language_info": {
   "codemirror_mode": {
    "name": "ipython",
    "version": 3
   },
   "file_extension": ".py",
   "mimetype": "text/x-python",
   "name": "python",
   "nbconvert_exporter": "python",
   "pygments_lexer": "ipython3",
   "version": "3.12.4"
  }
 },
 "nbformat": 4,
 "nbformat_minor": 5
}
