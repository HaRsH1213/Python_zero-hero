{
 "cells": [
  {
   "cell_type": "code",
   "execution_count": 1,
   "id": "fa91b56f-927b-42d5-ad4b-98527dad1bb9",
   "metadata": {},
   "outputs": [
    {
     "data": {
      "text/plain": [
       "['bread', 'pasta', 'fruits', 'veggies']"
      ]
     },
     "execution_count": 1,
     "metadata": {},
     "output_type": "execute_result"
    }
   ],
   "source": [
    "items=['bread','pasta','fruits','veggies']\n",
    "items"
   ]
  },
  {
   "cell_type": "code",
   "execution_count": 2,
   "id": "22ac5611-b997-4a66-bedb-d4f4e651d405",
   "metadata": {},
   "outputs": [
    {
     "data": {
      "text/plain": [
       "'veggies'"
      ]
     },
     "execution_count": 2,
     "metadata": {},
     "output_type": "execute_result"
    }
   ],
   "source": [
    "items[3]"
   ]
  },
  {
   "cell_type": "code",
   "execution_count": 6,
   "id": "0f4d988a-03a9-4492-af8b-9418b54d35a2",
   "metadata": {},
   "outputs": [
    {
     "data": {
      "text/plain": [
       "['fruits', 'veggies']"
      ]
     },
     "execution_count": 6,
     "metadata": {},
     "output_type": "execute_result"
    }
   ],
   "source": [
    "items[2:4]"
   ]
  },
  {
   "cell_type": "code",
   "execution_count": 8,
   "id": "3daee247-8563-436d-9330-86a294d54a49",
   "metadata": {},
   "outputs": [
    {
     "data": {
      "text/plain": [
       "['bread', 'pasta', 'fruits', 'veggies', 'butter', 'butter']"
      ]
     },
     "execution_count": 8,
     "metadata": {},
     "output_type": "execute_result"
    }
   ],
   "source": [
    "items.append('butter')\n",
    "items"
   ]
  },
  {
   "cell_type": "code",
   "execution_count": 13,
   "id": "9bc9ec2d-0095-4166-8efb-a407155007c1",
   "metadata": {},
   "outputs": [],
   "source": [
    "items.remove(\"butter\")"
   ]
  },
  {
   "cell_type": "code",
   "execution_count": 14,
   "id": "8508309a-9920-4b4a-aca0-86172ae0bc53",
   "metadata": {},
   "outputs": [
    {
     "data": {
      "text/plain": [
       "['bread', 'pasta', 'fruits', 'veggies', 'butter']"
      ]
     },
     "execution_count": 14,
     "metadata": {},
     "output_type": "execute_result"
    }
   ],
   "source": [
    "items"
   ]
  },
  {
   "cell_type": "code",
   "execution_count": 15,
   "id": "e6408777-8ed2-4307-a306-25795b2919b4",
   "metadata": {},
   "outputs": [],
   "source": [
    "items.insert(1,'meggie')"
   ]
  },
  {
   "cell_type": "code",
   "execution_count": 16,
   "id": "e093e5ce-98a7-49c9-af26-053034437a16",
   "metadata": {},
   "outputs": [
    {
     "data": {
      "text/plain": [
       "['bread', 'meggie', 'pasta', 'fruits', 'veggies', 'butter']"
      ]
     },
     "execution_count": 16,
     "metadata": {},
     "output_type": "execute_result"
    }
   ],
   "source": [
    "items"
   ]
  },
  {
   "cell_type": "code",
   "execution_count": 17,
   "id": "62aac765-03ad-4416-9381-e9ea2f3ba1e2",
   "metadata": {},
   "outputs": [],
   "source": [
    "items[4:]=[\"Paneer\"]"
   ]
  },
  {
   "cell_type": "code",
   "execution_count": 18,
   "id": "86bdb330-ad55-46c5-8006-70716e00f024",
   "metadata": {},
   "outputs": [
    {
     "data": {
      "text/plain": [
       "['bread', 'meggie', 'pasta', 'fruits', 'Paneer']"
      ]
     },
     "execution_count": 18,
     "metadata": {},
     "output_type": "execute_result"
    }
   ],
   "source": [
    "items"
   ]
  },
  {
   "cell_type": "code",
   "execution_count": 19,
   "id": "dd914d4f-c6a5-4a5a-9bab-91291472b773",
   "metadata": {},
   "outputs": [
    {
     "data": {
      "text/plain": [
       "False"
      ]
     },
     "execution_count": 19,
     "metadata": {},
     "output_type": "execute_result"
    }
   ],
   "source": [
    "'rice' in items"
   ]
  },
  {
   "cell_type": "code",
   "execution_count": 20,
   "id": "e5f2e7d8-7ca5-40b1-8a2e-0f2f2360692f",
   "metadata": {},
   "outputs": [
    {
     "data": {
      "text/plain": [
       "True"
      ]
     },
     "execution_count": 20,
     "metadata": {},
     "output_type": "execute_result"
    }
   ],
   "source": [
    "'meggie' in items"
   ]
  },
  {
   "cell_type": "code",
   "execution_count": 21,
   "id": "6262d68a-9f6d-45b3-a84f-f214bcb9d4c4",
   "metadata": {},
   "outputs": [
    {
     "data": {
      "text/plain": [
       "[30, 45, 300, 1200]"
      ]
     },
     "execution_count": 21,
     "metadata": {},
     "output_type": "execute_result"
    }
   ],
   "source": [
    "expenses=[30,1200,45,300]\n",
    "expenses.sort()\n",
    "expenses"
   ]
  },
  {
   "cell_type": "code",
   "execution_count": 22,
   "id": "3d3e507c-1826-4f1d-862d-46391855fddf",
   "metadata": {},
   "outputs": [
    {
     "data": {
      "text/plain": [
       "[1200, 300, 45, 30]"
      ]
     },
     "execution_count": 22,
     "metadata": {},
     "output_type": "execute_result"
    }
   ],
   "source": [
    "expenses.sort(reverse=True)\n",
    "expenses"
   ]
  },
  {
   "cell_type": "code",
   "execution_count": 23,
   "id": "65b8b137-6df2-4434-8060-b9095f36e7c3",
   "metadata": {},
   "outputs": [],
   "source": [
    "food_items=['bread','pasta','fruits']\n",
    "bathroom_items=['shampoo','soap']"
   ]
  },
  {
   "cell_type": "code",
   "execution_count": 24,
   "id": "b0073b97-f442-45d6-995d-8b22da5a77a1",
   "metadata": {},
   "outputs": [
    {
     "data": {
      "text/plain": [
       "['bread', 'pasta', 'fruits', 'shampoo', 'soap']"
      ]
     },
     "execution_count": 24,
     "metadata": {},
     "output_type": "execute_result"
    }
   ],
   "source": [
    "food_items+bathroom_items"
   ]
  },
  {
   "cell_type": "code",
   "execution_count": 26,
   "id": "2ba3d9db-8940-4c39-86ca-dbb568606782",
   "metadata": {},
   "outputs": [
    {
     "data": {
      "text/plain": [
       "['__add__',\n",
       " '__class__',\n",
       " '__class_getitem__',\n",
       " '__contains__',\n",
       " '__delattr__',\n",
       " '__delitem__',\n",
       " '__dir__',\n",
       " '__doc__',\n",
       " '__eq__',\n",
       " '__format__',\n",
       " '__ge__',\n",
       " '__getattribute__',\n",
       " '__getitem__',\n",
       " '__getstate__',\n",
       " '__gt__',\n",
       " '__hash__',\n",
       " '__iadd__',\n",
       " '__imul__',\n",
       " '__init__',\n",
       " '__init_subclass__',\n",
       " '__iter__',\n",
       " '__le__',\n",
       " '__len__',\n",
       " '__lt__',\n",
       " '__mul__',\n",
       " '__ne__',\n",
       " '__new__',\n",
       " '__reduce__',\n",
       " '__reduce_ex__',\n",
       " '__repr__',\n",
       " '__reversed__',\n",
       " '__rmul__',\n",
       " '__setattr__',\n",
       " '__setitem__',\n",
       " '__sizeof__',\n",
       " '__str__',\n",
       " '__subclasshook__',\n",
       " 'append',\n",
       " 'clear',\n",
       " 'copy',\n",
       " 'count',\n",
       " 'extend',\n",
       " 'index',\n",
       " 'insert',\n",
       " 'pop',\n",
       " 'remove',\n",
       " 'reverse',\n",
       " 'sort']"
      ]
     },
     "execution_count": 26,
     "metadata": {},
     "output_type": "execute_result"
    }
   ],
   "source": [
    "dir(items)"
   ]
  },
  {
   "cell_type": "code",
   "execution_count": null,
   "id": "5599ff9b-8ae0-498f-af93-0bff76300b68",
   "metadata": {},
   "outputs": [],
   "source": []
  }
 ],
 "metadata": {
  "kernelspec": {
   "display_name": "Python 3 (ipykernel)",
   "language": "python",
   "name": "python3"
  },
  "language_info": {
   "codemirror_mode": {
    "name": "ipython",
    "version": 3
   },
   "file_extension": ".py",
   "mimetype": "text/x-python",
   "name": "python",
   "nbconvert_exporter": "python",
   "pygments_lexer": "ipython3",
   "version": "3.12.4"
  }
 },
 "nbformat": 4,
 "nbformat_minor": 5
}
