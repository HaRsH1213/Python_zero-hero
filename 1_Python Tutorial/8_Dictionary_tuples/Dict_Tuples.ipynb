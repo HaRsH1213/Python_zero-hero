{
 "cells": [
  {
   "cell_type": "code",
   "execution_count": 2,
   "id": "b1d214ef-9c12-440e-8381-0c5655134bc5",
   "metadata": {},
   "outputs": [],
   "source": [
    "list=[1200,700,1700]\n",
    "tuple=(1200,700,1700)"
   ]
  },
  {
   "cell_type": "markdown",
   "id": "f9a17b78-0eb0-4f11-95ec-c5812465bdd3",
   "metadata": {},
   "source": [
    "# Tuples Vs List"
   ]
  },
  {
   "cell_type": "code",
   "execution_count": 3,
   "id": "4eccf3ea-40e1-4286-a705-82581f884814",
   "metadata": {},
   "outputs": [
    {
     "data": {
      "text/plain": [
       "700"
      ]
     },
     "execution_count": 3,
     "metadata": {},
     "output_type": "execute_result"
    }
   ],
   "source": [
    "list[1]"
   ]
  },
  {
   "cell_type": "code",
   "execution_count": 4,
   "id": "6a41bfd5-3d31-4418-8c15-024b76cea379",
   "metadata": {},
   "outputs": [
    {
     "data": {
      "text/plain": [
       "700"
      ]
     },
     "execution_count": 4,
     "metadata": {},
     "output_type": "execute_result"
    }
   ],
   "source": [
    "tuple[1]"
   ]
  },
  {
   "cell_type": "code",
   "execution_count": 5,
   "id": "59e3d056-9763-44d4-b472-960b1173a59b",
   "metadata": {},
   "outputs": [
    {
     "data": {
      "text/plain": [
       "list"
      ]
     },
     "execution_count": 5,
     "metadata": {},
     "output_type": "execute_result"
    }
   ],
   "source": [
    "type(list)"
   ]
  },
  {
   "cell_type": "code",
   "execution_count": 6,
   "id": "2254ac52-15cd-43c7-ba54-e1f83dff3ee0",
   "metadata": {},
   "outputs": [
    {
     "data": {
      "text/plain": [
       "tuple"
      ]
     },
     "execution_count": 6,
     "metadata": {},
     "output_type": "execute_result"
    }
   ],
   "source": [
    "type(tuple)"
   ]
  },
  {
   "cell_type": "code",
   "execution_count": 7,
   "id": "5cfe96e1-fd4e-4af9-9484-3cecfa884220",
   "metadata": {},
   "outputs": [
    {
     "data": {
      "text/plain": [
       "[1500, 700, 1700]"
      ]
     },
     "execution_count": 7,
     "metadata": {},
     "output_type": "execute_result"
    }
   ],
   "source": [
    "list[0]=1500\n",
    "list"
   ]
  },
  {
   "cell_type": "code",
   "execution_count": 9,
   "id": "a7930be3-5ff5-4594-a39c-c3bf4e6f6e97",
   "metadata": {},
   "outputs": [
    {
     "ename": "TypeError",
     "evalue": "'tuple' object does not support item assignment",
     "output_type": "error",
     "traceback": [
      "\u001b[1;31m---------------------------------------------------------------------------\u001b[0m",
      "\u001b[1;31mTypeError\u001b[0m                                 Traceback (most recent call last)",
      "Cell \u001b[1;32mIn[9], line 1\u001b[0m\n\u001b[1;32m----> 1\u001b[0m \u001b[38;5;28;43mtuple\u001b[39;49m\u001b[43m[\u001b[49m\u001b[38;5;241;43m0\u001b[39;49m\u001b[43m]\u001b[49m\u001b[38;5;241m=\u001b[39m\u001b[38;5;241m1500\u001b[39m\n\u001b[0;32m      2\u001b[0m \u001b[38;5;28mtuple\u001b[39m\n",
      "\u001b[1;31mTypeError\u001b[0m: 'tuple' object does not support item assignment"
     ]
    }
   ],
   "source": [
    "tuple[0]=1500\n",
    "tuple"
   ]
  },
  {
   "cell_type": "code",
   "execution_count": 10,
   "id": "91c93b50-aade-44b6-9e8e-7cf5109befb9",
   "metadata": {},
   "outputs": [],
   "source": [
    "def find_pe_and_pb(price, eps, book_value):\n",
    "    pe = price/eps\n",
    "    pb = price/book_value\n",
    "    return [pe, pb]\n",
    "val = find_pe_and_pb(100, 2, 4)"
   ]
  },
  {
   "cell_type": "code",
   "execution_count": 12,
   "id": "c4fdd97b-a6fb-42d8-8bc6-e0826177e092",
   "metadata": {},
   "outputs": [],
   "source": [
    "pe = val[0]\n",
    "pb = val[1]\n"
   ]
  },
  {
   "cell_type": "code",
   "execution_count": 13,
   "id": "10e5cfd0-3723-4bcd-86d1-050a90db9498",
   "metadata": {},
   "outputs": [
    {
     "data": {
      "text/plain": [
       "50.0"
      ]
     },
     "execution_count": 13,
     "metadata": {},
     "output_type": "execute_result"
    }
   ],
   "source": [
    "pe "
   ]
  },
  {
   "cell_type": "code",
   "execution_count": 14,
   "id": "6bc56958-4734-4dc7-819f-ff53f367074d",
   "metadata": {},
   "outputs": [
    {
     "data": {
      "text/plain": [
       "25.0"
      ]
     },
     "execution_count": 14,
     "metadata": {},
     "output_type": "execute_result"
    }
   ],
   "source": [
    "pb"
   ]
  },
  {
   "cell_type": "code",
   "execution_count": 15,
   "id": "d7e9ad20-96ed-405d-b748-eb6dfc6b09fc",
   "metadata": {},
   "outputs": [],
   "source": [
    "# Easily readable by Return or getting values in Tupples\n",
    "def find_pe_and_pb(price, eps, book_value):\n",
    "    pe = price/eps\n",
    "    pb = price/book_value\n",
    "    return pe, pb\n",
    "pe_ratio, pb_ratio = find_pe_and_pb(100, 2, 4)"
   ]
  },
  {
   "cell_type": "code",
   "execution_count": 16,
   "id": "ce4d261f-44d6-4280-a4a7-97fbcfc2f56f",
   "metadata": {},
   "outputs": [
    {
     "data": {
      "text/plain": [
       "50.0"
      ]
     },
     "execution_count": 16,
     "metadata": {},
     "output_type": "execute_result"
    }
   ],
   "source": [
    "pe_ratio"
   ]
  },
  {
   "cell_type": "code",
   "execution_count": 17,
   "id": "7c79fed6-8f2e-44b6-a3dc-108ad02989e0",
   "metadata": {},
   "outputs": [
    {
     "data": {
      "text/plain": [
       "25.0"
      ]
     },
     "execution_count": 17,
     "metadata": {},
     "output_type": "execute_result"
    }
   ],
   "source": [
    "pb_ratio"
   ]
  },
  {
   "cell_type": "code",
   "execution_count": 30,
   "id": "daf64fbb-89dd-41e4-8eb8-acd0d0d59b40",
   "metadata": {},
   "outputs": [],
   "source": [
    "contacts = [('rohan',89898319830),('pawn',979789898213),('yash',2137483274)]"
   ]
  },
  {
   "cell_type": "code",
   "execution_count": 25,
   "id": "7a1f844b-6fda-4845-83af-13913b8311fc",
   "metadata": {},
   "outputs": [
    {
     "data": {
      "text/plain": [
       "'pawn'"
      ]
     },
     "execution_count": 25,
     "metadata": {},
     "output_type": "execute_result"
    }
   ],
   "source": [
    "contacts[1][0]"
   ]
  },
  {
   "cell_type": "code",
   "execution_count": 34,
   "id": "23ac36e4-cbb2-4f52-97fe-520f7943c6fb",
   "metadata": {},
   "outputs": [
    {
     "name": "stdout",
     "output_type": "stream",
     "text": [
      "2137483274\n"
     ]
    }
   ],
   "source": [
    "for contact in contacts:\n",
    "    #print(contact[0])\n",
    "    if contact[0] == \"yash\":\n",
    "        print(contact[1])\n",
    "    "
   ]
  },
  {
   "cell_type": "code",
   "execution_count": 32,
   "id": "3f73bd11-d3f4-4147-acb0-e82cab22f5bf",
   "metadata": {},
   "outputs": [
    {
     "name": "stdout",
     "output_type": "stream",
     "text": [
      "('rohan', 89898319830)\n",
      "('rohan', 89898319830)\n",
      "2137483274\n",
      "('pawn', 979789898213)\n",
      "('rohan', 89898319830)\n",
      "2137483274\n",
      "('yash', 2137483274)\n",
      "('rohan', 89898319830)\n",
      "2137483274\n"
     ]
    }
   ],
   "source": [
    "for i in range(len(contacts)):\n",
    "    print(contacts[i])\n",
    "    print(contacts[0])\n",
    "    if contact[0] == \"yash\":\n",
    "        print(contact[1])\n",
    "    "
   ]
  },
  {
   "cell_type": "code",
   "execution_count": null,
   "id": "a3ca64fd-eed9-45f6-8c07-ddba1ac7a712",
   "metadata": {},
   "outputs": [],
   "source": []
  },
  {
   "cell_type": "markdown",
   "id": "df6a2f6a-9976-4d70-a75e-51687b1e223a",
   "metadata": {},
   "source": [
    "# Dictionary"
   ]
  },
  {
   "cell_type": "code",
   "execution_count": 28,
   "id": "b597dd93-5f8e-491f-b296-b08a357a8f04",
   "metadata": {},
   "outputs": [],
   "source": [
    "d={\n",
    "    'rohan': 89898319830,\n",
    "    'pawn': 979789898213,\n",
    "    'yash': 2137483274\n",
    "}"
   ]
  },
  {
   "cell_type": "code",
   "execution_count": 29,
   "id": "73a86ca0-e069-4507-8672-b7aa204bf0e4",
   "metadata": {},
   "outputs": [
    {
     "data": {
      "text/plain": [
       "{'rohan': 89898319830, 'pawn': 979789898213, 'yash': 2137483274}"
      ]
     },
     "execution_count": 29,
     "metadata": {},
     "output_type": "execute_result"
    }
   ],
   "source": [
    "d"
   ]
  },
  {
   "cell_type": "code",
   "execution_count": 30,
   "id": "b0524fa2-850b-4918-81fa-845af5df475a",
   "metadata": {},
   "outputs": [
    {
     "data": {
      "text/plain": [
       "dict"
      ]
     },
     "execution_count": 30,
     "metadata": {},
     "output_type": "execute_result"
    }
   ],
   "source": [
    "type(d)"
   ]
  },
  {
   "cell_type": "code",
   "execution_count": 32,
   "id": "6daed14a-15df-4725-a062-d244d470b0cb",
   "metadata": {},
   "outputs": [
    {
     "data": {
      "text/plain": [
       "2137483274"
      ]
     },
     "execution_count": 32,
     "metadata": {},
     "output_type": "execute_result"
    }
   ],
   "source": [
    "d[\"yash\"]"
   ]
  },
  {
   "cell_type": "code",
   "execution_count": 33,
   "id": "8bf88a0a-5b4c-4e50-9465-379025f786f0",
   "metadata": {},
   "outputs": [
    {
     "ename": "KeyError",
     "evalue": "'happy'",
     "output_type": "error",
     "traceback": [
      "\u001b[1;31m---------------------------------------------------------------------------\u001b[0m",
      "\u001b[1;31mKeyError\u001b[0m                                  Traceback (most recent call last)",
      "Cell \u001b[1;32mIn[33], line 3\u001b[0m\n\u001b[0;32m      1\u001b[0m \u001b[38;5;66;03m# if you enter a key which does'nt exist in the dict then ,\u001b[39;00m\n\u001b[1;32m----> 3\u001b[0m \u001b[43md\u001b[49m\u001b[43m[\u001b[49m\u001b[38;5;124;43m\"\u001b[39;49m\u001b[38;5;124;43mhappy\u001b[39;49m\u001b[38;5;124;43m\"\u001b[39;49m\u001b[43m]\u001b[49m\n",
      "\u001b[1;31mKeyError\u001b[0m: 'happy'"
     ]
    }
   ],
   "source": [
    "# if you enter a key which does'nt exist in the dict then ,\n",
    "\n",
    "d[\"happy\"]"
   ]
  },
  {
   "cell_type": "code",
   "execution_count": 34,
   "id": "b708328b-26e4-466c-9d5a-220f4a54c6c6",
   "metadata": {},
   "outputs": [],
   "source": [
    "# if you want to not getting error if someone acccidently write some worng key \n",
    "\n",
    "d.get('happy')"
   ]
  },
  {
   "cell_type": "code",
   "execution_count": 35,
   "id": "068b26ac-0274-4cec-acba-d3a8857d3a81",
   "metadata": {},
   "outputs": [
    {
     "data": {
      "text/plain": [
       "2137483274"
      ]
     },
     "execution_count": 35,
     "metadata": {},
     "output_type": "execute_result"
    }
   ],
   "source": [
    "d.get(\"yash\")"
   ]
  },
  {
   "cell_type": "code",
   "execution_count": 37,
   "id": "45a9dfc2-1d98-49c0-a739-4b3879387a9a",
   "metadata": {},
   "outputs": [
    {
     "data": {
      "text/plain": [
       "{'rohan': 89898319830, 'pawn': 979789898213, 'yash': 1111111111}"
      ]
     },
     "execution_count": 37,
     "metadata": {},
     "output_type": "execute_result"
    }
   ],
   "source": [
    "d['yash']=1111111111\n",
    "d"
   ]
  },
  {
   "cell_type": "code",
   "execution_count": 41,
   "id": "5b67d70b-b20d-4203-89b2-f16ae31ae098",
   "metadata": {},
   "outputs": [],
   "source": [
    "d['happy']=1010101010"
   ]
  },
  {
   "cell_type": "code",
   "execution_count": 42,
   "id": "8b0d6656-b909-4298-87ce-6006d612c474",
   "metadata": {},
   "outputs": [
    {
     "data": {
      "text/plain": [
       "{'rohan': 89898319830,\n",
       " 'pawn': 979789898213,\n",
       " 'yash': 1111111111,\n",
       " 'happy': 1010101010}"
      ]
     },
     "execution_count": 42,
     "metadata": {},
     "output_type": "execute_result"
    }
   ],
   "source": [
    "d"
   ]
  },
  {
   "cell_type": "code",
   "execution_count": 43,
   "id": "b00b50ec-9357-4a26-a09f-e905d1f17856",
   "metadata": {},
   "outputs": [],
   "source": [
    "del d['pawn']"
   ]
  },
  {
   "cell_type": "code",
   "execution_count": 44,
   "id": "b1c4b0ea-6401-4ce1-adb0-36c42267580f",
   "metadata": {},
   "outputs": [
    {
     "data": {
      "text/plain": [
       "{'rohan': 89898319830, 'yash': 1111111111, 'happy': 1010101010}"
      ]
     },
     "execution_count": 44,
     "metadata": {},
     "output_type": "execute_result"
    }
   ],
   "source": [
    "d"
   ]
  },
  {
   "cell_type": "code",
   "execution_count": 45,
   "id": "d45a263c-e04c-4f2e-a3fd-3b4a72c396e8",
   "metadata": {},
   "outputs": [
    {
     "data": {
      "text/plain": [
       "True"
      ]
     },
     "execution_count": 45,
     "metadata": {},
     "output_type": "execute_result"
    }
   ],
   "source": [
    "'yash' in d"
   ]
  },
  {
   "cell_type": "code",
   "execution_count": 46,
   "id": "4a2a4d44-c023-4d09-aae1-942c0ad240c8",
   "metadata": {},
   "outputs": [
    {
     "data": {
      "text/plain": [
       "False"
      ]
     },
     "execution_count": 46,
     "metadata": {},
     "output_type": "execute_result"
    }
   ],
   "source": [
    "\"pawn\" in d\n"
   ]
  },
  {
   "cell_type": "markdown",
   "id": "d4414cef-e804-4524-8a7c-6e6fbff1c241",
   "metadata": {},
   "source": [
    "# Nested Dictionay "
   ]
  },
  {
   "cell_type": "code",
   "execution_count": 1,
   "id": "b147d019-370c-45c7-b6fd-f4ce480dc455",
   "metadata": {},
   "outputs": [],
   "source": [
    "contact_dict ={\n",
    "    'yash' :{'phone': 12334454, 'address': '1st house '},\n",
    "    'happy' :{'phone': 9887662, 'address': '2nd house'}\n",
    "    \n",
    "}"
   ]
  },
  {
   "cell_type": "code",
   "execution_count": 2,
   "id": "cacbde8a-72af-443b-88cc-fcaa30050783",
   "metadata": {},
   "outputs": [
    {
     "data": {
      "text/plain": [
       "9887662"
      ]
     },
     "execution_count": 2,
     "metadata": {},
     "output_type": "execute_result"
    }
   ],
   "source": [
    "#Print happy phone number\n",
    "\n",
    "contact_dict['happy']['phone']"
   ]
  },
  {
   "cell_type": "code",
   "execution_count": 3,
   "id": "72f26c5f-b11f-45f7-abdb-f117fc03b641",
   "metadata": {},
   "outputs": [
    {
     "data": {
      "text/plain": [
       "'2nd house'"
      ]
     },
     "execution_count": 3,
     "metadata": {},
     "output_type": "execute_result"
    }
   ],
   "source": [
    "contact_dict['happy']['address']"
   ]
  },
  {
   "cell_type": "code",
   "execution_count": 50,
   "id": "5c3dfc13-0a5f-4120-9f98-f2e617990881",
   "metadata": {},
   "outputs": [
    {
     "data": {
      "text/plain": [
       "{'phone': 9887662, 'address': '2nd house'}"
      ]
     },
     "execution_count": 50,
     "metadata": {},
     "output_type": "execute_result"
    }
   ],
   "source": [
    "contact_dict['happy']"
   ]
  },
  {
   "cell_type": "code",
   "execution_count": 5,
   "id": "1be08be8-9bf3-451a-8459-dac477ec4021",
   "metadata": {},
   "outputs": [
    {
     "name": "stdout",
     "output_type": "stream",
     "text": [
      "yash phone 12334454\n",
      "yash address 1st house \n",
      "happy phone 9887662\n",
      "happy address 2nd house\n"
     ]
    }
   ],
   "source": [
    "for name, details in contact_dict.items():\n",
    "    #print(contact_dict.items())\n",
    "    #print(name, number)\n",
    "    for number, address in details.items():\n",
    "        #print(details.items())\n",
    "        #print(number)\n",
    "        #print(address)\n",
    "        print(name, number, address)\n",
    "    "
   ]
  },
  {
   "cell_type": "code",
   "execution_count": 54,
   "id": "7bf64655-4f1d-415d-b647-a9734fdd6f66",
   "metadata": {},
   "outputs": [
    {
     "data": {
      "text/plain": [
       "dict_keys(['yash', 'happy'])"
      ]
     },
     "execution_count": 54,
     "metadata": {},
     "output_type": "execute_result"
    }
   ],
   "source": [
    "contact_dict.keys()"
   ]
  },
  {
   "cell_type": "code",
   "execution_count": 57,
   "id": "31f2711c-fa19-4eed-9a63-6cd6c17b38cd",
   "metadata": {},
   "outputs": [
    {
     "data": {
      "text/plain": [
       "dict_items([('yash', {'phone': 12334454, 'address': '1st house '}), ('happy', {'phone': 9887662, 'address': '2nd house'})])"
      ]
     },
     "execution_count": 57,
     "metadata": {},
     "output_type": "execute_result"
    }
   ],
   "source": [
    "contact_dict.items()"
   ]
  },
  {
   "cell_type": "code",
   "execution_count": 58,
   "id": "dce25dc2-0109-40dc-a57e-8dacc9d7df4b",
   "metadata": {},
   "outputs": [
    {
     "data": {
      "text/plain": [
       "{'yash': {'phone': 12334454, 'address': '1st house '},\n",
       " 'happy': {'phone': 9887662, 'address': '2nd house'}}"
      ]
     },
     "execution_count": 58,
     "metadata": {},
     "output_type": "execute_result"
    }
   ],
   "source": [
    "contact_dict"
   ]
  },
  {
   "cell_type": "code",
   "execution_count": 55,
   "id": "621dbe95-7d8e-4c8d-9d03-d2c49ae7a37a",
   "metadata": {},
   "outputs": [
    {
     "data": {
      "text/plain": [
       "dict_values([{'phone': 12334454, 'address': '1st house '}, {'phone': 9887662, 'address': '2nd house'}])"
      ]
     },
     "execution_count": 55,
     "metadata": {},
     "output_type": "execute_result"
    }
   ],
   "source": [
    "contact_dict.values()"
   ]
  },
  {
   "cell_type": "code",
   "execution_count": 56,
   "id": "a9690163-9aca-4baf-9957-31a618069afa",
   "metadata": {},
   "outputs": [],
   "source": [
    "appl_revenues = {\n",
    "    \"USA\": {\n",
    "        \"iPhone\": 20,\n",
    "        \"iPad\": 12,\n",
    "        \"MacBook\": 8\n",
    "    },\n",
    "    \"China\": {\n",
    "        \"iPhone\": 17,\n",
    "        \"iPad\": 9,\n",
    "        \"MacBook\": 6\n",
    "    },\n",
    "    \"India\": {\n",
    "        \"iPhone\": 9,\n",
    "        \"iPad\": 4,\n",
    "        \"MacBook\": 2\n",
    "    }\n",
    "}\n"
   ]
  },
  {
   "cell_type": "code",
   "execution_count": 63,
   "id": "66896773-b609-4618-957e-f96a76d14241",
   "metadata": {},
   "outputs": [
    {
     "name": "stdout",
     "output_type": "stream",
     "text": [
      "USA iPhone : 20 million $ \n",
      "USA iPad : 12 million $ \n",
      "USA MacBook : 8 million $ \n",
      "China iPhone : 17 million $ \n",
      "China iPad : 9 million $ \n",
      "China MacBook : 6 million $ \n",
      "India iPhone : 9 million $ \n",
      "India iPad : 4 million $ \n",
      "India MacBook : 2 million $ \n"
     ]
    }
   ],
   "source": [
    "for country, product_data in appl_revenues.items():\n",
    "    for product, rev in product_data.items():\n",
    "        print(f\"{country} {product} : {rev} million $ \")"
   ]
  },
  {
   "cell_type": "code",
   "execution_count": null,
   "id": "6e826f8b-4304-4ed7-953f-70b5825ba7c7",
   "metadata": {},
   "outputs": [],
   "source": []
  }
 ],
 "metadata": {
  "kernelspec": {
   "display_name": "Python 3 (ipykernel)",
   "language": "python",
   "name": "python3"
  },
  "language_info": {
   "codemirror_mode": {
    "name": "ipython",
    "version": 3
   },
   "file_extension": ".py",
   "mimetype": "text/x-python",
   "name": "python",
   "nbconvert_exporter": "python",
   "pygments_lexer": "ipython3",
   "version": "3.12.4"
  }
 },
 "nbformat": 4,
 "nbformat_minor": 5
}
