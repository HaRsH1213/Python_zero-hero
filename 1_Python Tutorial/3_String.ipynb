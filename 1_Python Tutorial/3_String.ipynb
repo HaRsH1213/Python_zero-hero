{
 "cells": [
  {
   "cell_type": "code",
   "execution_count": 2,
   "id": "dc306c30-e364-4e96-a7ba-5dc52cdfe82f",
   "metadata": {},
   "outputs": [],
   "source": [
    "first=\"Mohan\"\n",
    "last=\"Sharma\""
   ]
  },
  {
   "cell_type": "code",
   "execution_count": 3,
   "id": "fc6c2feb-0cdb-4c98-9bc5-fe6040310c8d",
   "metadata": {},
   "outputs": [
    {
     "data": {
      "text/plain": [
       "str"
      ]
     },
     "execution_count": 3,
     "metadata": {},
     "output_type": "execute_result"
    }
   ],
   "source": [
    "type(first)"
   ]
  },
  {
   "cell_type": "code",
   "execution_count": 6,
   "id": "ea45d97d-145e-4298-bc89-ca08f0de16cb",
   "metadata": {},
   "outputs": [
    {
     "data": {
      "text/plain": [
       "'Mohan Sharma'"
      ]
     },
     "execution_count": 6,
     "metadata": {},
     "output_type": "execute_result"
    }
   ],
   "source": [
    "name=first+\" \"+ last\n",
    "name"
   ]
  },
  {
   "cell_type": "code",
   "execution_count": 11,
   "id": "2d07c191-444e-4c74-a551-7fa2f08f4c5b",
   "metadata": {},
   "outputs": [
    {
     "data": {
      "text/plain": [
       "'Mohan Sharma'"
      ]
     },
     "execution_count": 11,
     "metadata": {},
     "output_type": "execute_result"
    }
   ],
   "source": [
    "name=f\"{first} {last}\"\n",
    "name"
   ]
  },
  {
   "cell_type": "code",
   "execution_count": 12,
   "id": "98d4ee4b-adf8-4c26-a183-058f4e91a6c5",
   "metadata": {},
   "outputs": [
    {
     "name": "stdout",
     "output_type": "stream",
     "text": [
      "Mohan Sharma\n"
     ]
    }
   ],
   "source": [
    "print(name)"
   ]
  },
  {
   "cell_type": "code",
   "execution_count": 13,
   "id": "788e0bcc-2842-43a0-9c0b-324dc18bfcc5",
   "metadata": {},
   "outputs": [
    {
     "data": {
      "text/plain": [
       "'My name is Mohan Sharma'"
      ]
     },
     "execution_count": 13,
     "metadata": {},
     "output_type": "execute_result"
    }
   ],
   "source": [
    "Name=f\"My name is {first} {last}\"\n",
    "Name"
   ]
  },
  {
   "cell_type": "code",
   "execution_count": 14,
   "id": "cd1f8f3c-6682-4023-a5d8-d4808b9454bf",
   "metadata": {},
   "outputs": [
    {
     "data": {
      "text/plain": [
       "' Mohan Sharma is 23 years old '"
      ]
     },
     "execution_count": 14,
     "metadata": {},
     "output_type": "execute_result"
    }
   ],
   "source": [
    "age=23\n",
    "info=f\" {first} {last} is {age} years old \"\n",
    "info"
   ]
  },
  {
   "cell_type": "code",
   "execution_count": 15,
   "id": "311cdae8-d24c-46fb-89e4-ac8eedc7c52b",
   "metadata": {},
   "outputs": [
    {
     "data": {
      "text/plain": [
       "'Mohan Sharma'"
      ]
     },
     "execution_count": 15,
     "metadata": {},
     "output_type": "execute_result"
    }
   ],
   "source": [
    "name"
   ]
  },
  {
   "cell_type": "code",
   "execution_count": 16,
   "id": "8465df08-2ac6-482f-a5af-9e2bc2e9f35e",
   "metadata": {},
   "outputs": [
    {
     "data": {
      "text/plain": [
       "'M'"
      ]
     },
     "execution_count": 16,
     "metadata": {},
     "output_type": "execute_result"
    }
   ],
   "source": [
    "name[0]"
   ]
  },
  {
   "cell_type": "code",
   "execution_count": 17,
   "id": "27461d4f-2d26-4083-bde8-8401eaebb9c6",
   "metadata": {},
   "outputs": [
    {
     "data": {
      "text/plain": [
       "'o'"
      ]
     },
     "execution_count": 17,
     "metadata": {},
     "output_type": "execute_result"
    }
   ],
   "source": [
    "name[1]"
   ]
  },
  {
   "cell_type": "code",
   "execution_count": 19,
   "id": "91557e82-ca02-4b6b-98b9-6de5746c43cf",
   "metadata": {},
   "outputs": [
    {
     "data": {
      "text/plain": [
       "'Moha'"
      ]
     },
     "execution_count": 19,
     "metadata": {},
     "output_type": "execute_result"
    }
   ],
   "source": [
    "name[0:4]"
   ]
  },
  {
   "cell_type": "code",
   "execution_count": 20,
   "id": "815e5d70-a6e6-47cc-b9b6-63662988164a",
   "metadata": {},
   "outputs": [
    {
     "data": {
      "text/plain": [
       "'Moha'"
      ]
     },
     "execution_count": 20,
     "metadata": {},
     "output_type": "execute_result"
    }
   ],
   "source": [
    "name[:4]"
   ]
  },
  {
   "cell_type": "code",
   "execution_count": 21,
   "id": "74e8653c-f36a-4ca9-8ea8-000952a1c565",
   "metadata": {},
   "outputs": [
    {
     "data": {
      "text/plain": [
       "'Mohan'"
      ]
     },
     "execution_count": 21,
     "metadata": {},
     "output_type": "execute_result"
    }
   ],
   "source": [
    "name[:5]"
   ]
  },
  {
   "cell_type": "code",
   "execution_count": 22,
   "id": "0b3f772d-a68c-4765-a3df-887ac7d781b7",
   "metadata": {},
   "outputs": [
    {
     "data": {
      "text/plain": [
       "12"
      ]
     },
     "execution_count": 22,
     "metadata": {},
     "output_type": "execute_result"
    }
   ],
   "source": [
    "len(name)"
   ]
  },
  {
   "cell_type": "code",
   "execution_count": 25,
   "id": "4a23c087-65ed-409c-9807-8c8f8c16038f",
   "metadata": {},
   "outputs": [
    {
     "data": {
      "text/plain": [
       "'Sharma'"
      ]
     },
     "execution_count": 25,
     "metadata": {},
     "output_type": "execute_result"
    }
   ],
   "source": [
    "# if we want ot print only \"Sharma\" then\n",
    "name[6:]"
   ]
  },
  {
   "cell_type": "code",
   "execution_count": 26,
   "id": "caba41cb-2634-4f3f-b8af-4a8eea267e9b",
   "metadata": {},
   "outputs": [
    {
     "data": {
      "text/plain": [
       "'Sharma'"
      ]
     },
     "execution_count": 26,
     "metadata": {},
     "output_type": "execute_result"
    }
   ],
   "source": [
    "name[6:12]"
   ]
  },
  {
   "cell_type": "code",
   "execution_count": 27,
   "id": "68999946-7b99-4fd7-8145-f9276ac85e48",
   "metadata": {},
   "outputs": [
    {
     "data": {
      "text/plain": [
       "'a'"
      ]
     },
     "execution_count": 27,
     "metadata": {},
     "output_type": "execute_result"
    }
   ],
   "source": [
    "name[-1]"
   ]
  },
  {
   "cell_type": "code",
   "execution_count": 28,
   "id": "c764f1b4-60e0-4c00-857c-900645c7548f",
   "metadata": {},
   "outputs": [
    {
     "data": {
      "text/plain": [
       "'m'"
      ]
     },
     "execution_count": 28,
     "metadata": {},
     "output_type": "execute_result"
    }
   ],
   "source": [
    "name[-2]"
   ]
  },
  {
   "cell_type": "code",
   "execution_count": 29,
   "id": "7f2a5c55-1d6e-40ab-9339-89581bb16b10",
   "metadata": {},
   "outputs": [
    {
     "data": {
      "text/plain": [
       "'Mohan Sharma'"
      ]
     },
     "execution_count": 29,
     "metadata": {},
     "output_type": "execute_result"
    }
   ],
   "source": [
    "name\n"
   ]
  },
  {
   "cell_type": "code",
   "execution_count": 30,
   "id": "35e4f319-dc4d-4ff0-9e6a-18c1b239d7ab",
   "metadata": {},
   "outputs": [
    {
     "ename": "TypeError",
     "evalue": "'str' object does not support item assignment",
     "output_type": "error",
     "traceback": [
      "\u001b[1;31m---------------------------------------------------------------------------\u001b[0m",
      "\u001b[1;31mTypeError\u001b[0m                                 Traceback (most recent call last)",
      "Cell \u001b[1;32mIn[30], line 2\u001b[0m\n\u001b[0;32m      1\u001b[0m \u001b[38;5;66;03m#string objects are immutable means once you initialize string objects , you cannot change them For example \u001b[39;00m\n\u001b[1;32m----> 2\u001b[0m \u001b[43mname\u001b[49m\u001b[43m[\u001b[49m\u001b[38;5;241;43m0\u001b[39;49m\u001b[43m]\u001b[49m\u001b[38;5;241m=\u001b[39m\u001b[38;5;124m'\u001b[39m\u001b[38;5;124mS\u001b[39m\u001b[38;5;124m'\u001b[39m\n",
      "\u001b[1;31mTypeError\u001b[0m: 'str' object does not support item assignment"
     ]
    }
   ],
   "source": [
    "#string objects are immutable means once you initialize string objects , you cannot change them For example \n",
    "name[0]='S'"
   ]
  },
  {
   "cell_type": "code",
   "execution_count": 31,
   "id": "f68ac09e-afcb-4ac8-afdd-1f52d12bef9c",
   "metadata": {},
   "outputs": [
    {
     "data": {
      "text/plain": [
       "'veg biryani with saffron, cardamom, and cloves, granished with fried onions and cilantro'"
      ]
     },
     "execution_count": 31,
     "metadata": {},
     "output_type": "execute_result"
    }
   ],
   "source": [
    "recipe=\"veg biryani with saffron, cardamom, and cloves, granished with fried onions and cilantro\"\n",
    "recipe"
   ]
  },
  {
   "cell_type": "code",
   "execution_count": 33,
   "id": "a30bdd54-c453-4898-b7bc-9fdf3e6ceeba",
   "metadata": {},
   "outputs": [
    {
     "data": {
      "text/plain": [
       "'\\nveg biryani with saffron, cardamom, and cloves, granished with fried onions \\nand cilantro\\n'"
      ]
     },
     "execution_count": 33,
     "metadata": {},
     "output_type": "execute_result"
    }
   ],
   "source": [
    "recipe='''\n",
    "veg biryani with saffron, cardamom, and cloves, granished with fried onions \n",
    "and cilantro\n",
    "'''\n",
    "recipe"
   ]
  },
  {
   "cell_type": "code",
   "execution_count": 34,
   "id": "71a82762-f494-4554-a9d2-059152bc3139",
   "metadata": {},
   "outputs": [
    {
     "name": "stdout",
     "output_type": "stream",
     "text": [
      "\n",
      "veg biryani with saffron, cardamom, and cloves, granished with fried onions \n",
      "and cilantro\n",
      "\n"
     ]
    }
   ],
   "source": [
    "print(recipe)"
   ]
  },
  {
   "cell_type": "code",
   "execution_count": 35,
   "id": "ebca0e58-051a-4c31-b57d-7da3404b07ca",
   "metadata": {},
   "outputs": [
    {
     "data": {
      "text/plain": [
       "True"
      ]
     },
     "execution_count": 35,
     "metadata": {},
     "output_type": "execute_result"
    }
   ],
   "source": [
    "spice='cardamom'\n",
    "spice in recipe"
   ]
  },
  {
   "cell_type": "code",
   "execution_count": 37,
   "id": "85cb1d03-1689-4368-ab3d-2c60580b1a71",
   "metadata": {},
   "outputs": [
    {
     "data": {
      "text/plain": [
       "False"
      ]
     },
     "execution_count": 37,
     "metadata": {},
     "output_type": "execute_result"
    }
   ],
   "source": [
    " \"milk\" in recipe"
   ]
  },
  {
   "cell_type": "code",
   "execution_count": 38,
   "id": "251507db-2170-4e5a-a57e-cfbe3e9312cf",
   "metadata": {},
   "outputs": [
    {
     "data": {
      "text/plain": [
       "27"
      ]
     },
     "execution_count": 38,
     "metadata": {},
     "output_type": "execute_result"
    }
   ],
   "source": [
    "recipe.find(spice)"
   ]
  },
  {
   "cell_type": "code",
   "execution_count": 39,
   "id": "ed3cf543-da4a-497a-85f6-4af830a280a7",
   "metadata": {},
   "outputs": [
    {
     "data": {
      "text/plain": [
       "'patient was charged 100$ for lab test'"
      ]
     },
     "execution_count": 39,
     "metadata": {},
     "output_type": "execute_result"
    }
   ],
   "source": [
    "s=\"patient was charged 100$ for lab test\"\n",
    "s"
   ]
  },
  {
   "cell_type": "code",
   "execution_count": 40,
   "id": "88bb7165-f28c-49df-839f-2dabb41bea79",
   "metadata": {},
   "outputs": [
    {
     "data": {
      "text/plain": [
       "['__add__',\n",
       " '__class__',\n",
       " '__contains__',\n",
       " '__delattr__',\n",
       " '__dir__',\n",
       " '__doc__',\n",
       " '__eq__',\n",
       " '__format__',\n",
       " '__ge__',\n",
       " '__getattribute__',\n",
       " '__getitem__',\n",
       " '__getnewargs__',\n",
       " '__getstate__',\n",
       " '__gt__',\n",
       " '__hash__',\n",
       " '__init__',\n",
       " '__init_subclass__',\n",
       " '__iter__',\n",
       " '__le__',\n",
       " '__len__',\n",
       " '__lt__',\n",
       " '__mod__',\n",
       " '__mul__',\n",
       " '__ne__',\n",
       " '__new__',\n",
       " '__reduce__',\n",
       " '__reduce_ex__',\n",
       " '__repr__',\n",
       " '__rmod__',\n",
       " '__rmul__',\n",
       " '__setattr__',\n",
       " '__sizeof__',\n",
       " '__str__',\n",
       " '__subclasshook__',\n",
       " 'capitalize',\n",
       " 'casefold',\n",
       " 'center',\n",
       " 'count',\n",
       " 'encode',\n",
       " 'endswith',\n",
       " 'expandtabs',\n",
       " 'find',\n",
       " 'format',\n",
       " 'format_map',\n",
       " 'index',\n",
       " 'isalnum',\n",
       " 'isalpha',\n",
       " 'isascii',\n",
       " 'isdecimal',\n",
       " 'isdigit',\n",
       " 'isidentifier',\n",
       " 'islower',\n",
       " 'isnumeric',\n",
       " 'isprintable',\n",
       " 'isspace',\n",
       " 'istitle',\n",
       " 'isupper',\n",
       " 'join',\n",
       " 'ljust',\n",
       " 'lower',\n",
       " 'lstrip',\n",
       " 'maketrans',\n",
       " 'partition',\n",
       " 'removeprefix',\n",
       " 'removesuffix',\n",
       " 'replace',\n",
       " 'rfind',\n",
       " 'rindex',\n",
       " 'rjust',\n",
       " 'rpartition',\n",
       " 'rsplit',\n",
       " 'rstrip',\n",
       " 'split',\n",
       " 'splitlines',\n",
       " 'startswith',\n",
       " 'strip',\n",
       " 'swapcase',\n",
       " 'title',\n",
       " 'translate',\n",
       " 'upper',\n",
       " 'zfill']"
      ]
     },
     "execution_count": 40,
     "metadata": {},
     "output_type": "execute_result"
    }
   ],
   "source": [
    "dir(s)"
   ]
  },
  {
   "cell_type": "code",
   "execution_count": 41,
   "id": "e4e44176-d02e-419c-9a1c-15d1fa12db9f",
   "metadata": {},
   "outputs": [
    {
     "data": {
      "text/plain": [
       "'patient was charged 100$ for lab test'"
      ]
     },
     "execution_count": 41,
     "metadata": {},
     "output_type": "execute_result"
    }
   ],
   "source": [
    "s"
   ]
  },
  {
   "cell_type": "code",
   "execution_count": 44,
   "id": "ac8de6f1-a0c4-4681-954a-07bd7889b994",
   "metadata": {},
   "outputs": [],
   "source": [
    "s=s.replace('100','10')"
   ]
  },
  {
   "cell_type": "code",
   "execution_count": 45,
   "id": "0388f280-5e13-4fb9-abf5-cc86017074bb",
   "metadata": {},
   "outputs": [
    {
     "data": {
      "text/plain": [
       "'patient was charged 10$ for lab test'"
      ]
     },
     "execution_count": 45,
     "metadata": {},
     "output_type": "execute_result"
    }
   ],
   "source": [
    "s"
   ]
  },
  {
   "cell_type": "code",
   "execution_count": 49,
   "id": "24834dca-f47e-4ca6-b2d4-62456f1bc138",
   "metadata": {},
   "outputs": [
    {
     "data": {
      "text/plain": [
       "'PATIENT WAS CHARGED 10$ FOR LAB TEST'"
      ]
     },
     "execution_count": 49,
     "metadata": {},
     "output_type": "execute_result"
    }
   ],
   "source": [
    "s.upper()"
   ]
  },
  {
   "cell_type": "code",
   "execution_count": 50,
   "id": "ced7c81a-ad16-4654-8065-419b20f9cb82",
   "metadata": {},
   "outputs": [
    {
     "data": {
      "text/plain": [
       "'patient was charged 10$ for lab test'"
      ]
     },
     "execution_count": 50,
     "metadata": {},
     "output_type": "execute_result"
    }
   ],
   "source": [
    "s.lower()"
   ]
  },
  {
   "cell_type": "code",
   "execution_count": 51,
   "id": "ee7ac7a2-1c08-4c71-a7ad-97a431ca5879",
   "metadata": {},
   "outputs": [
    {
     "data": {
      "text/plain": [
       "True"
      ]
     },
     "execution_count": 51,
     "metadata": {},
     "output_type": "execute_result"
    }
   ],
   "source": [
    "'2002'.isdigit()"
   ]
  },
  {
   "cell_type": "code",
   "execution_count": 52,
   "id": "37daab98-c102-4244-bcc2-17d457dec07c",
   "metadata": {},
   "outputs": [
    {
     "data": {
      "text/plain": [
       "False"
      ]
     },
     "execution_count": 52,
     "metadata": {},
     "output_type": "execute_result"
    }
   ],
   "source": [
    "'200a2'.isdigit()"
   ]
  },
  {
   "cell_type": "code",
   "execution_count": 53,
   "id": "b63cd0c1-b68a-4d94-ae85-e6fe8a1de2be",
   "metadata": {},
   "outputs": [
    {
     "data": {
      "text/plain": [
       "20"
      ]
     },
     "execution_count": 53,
     "metadata": {},
     "output_type": "execute_result"
    }
   ],
   "source": [
    "s.index('10$')"
   ]
  },
  {
   "cell_type": "code",
   "execution_count": 54,
   "id": "17a85120-5a3d-41b7-80b2-3632ddcd7ab8",
   "metadata": {},
   "outputs": [
    {
     "data": {
      "text/plain": [
       "20"
      ]
     },
     "execution_count": 54,
     "metadata": {},
     "output_type": "execute_result"
    }
   ],
   "source": [
    "s.find('10$')"
   ]
  },
  {
   "cell_type": "code",
   "execution_count": 55,
   "id": "94e4b231-5901-45b1-a030-431f63bd2f18",
   "metadata": {},
   "outputs": [
    {
     "ename": "TypeError",
     "evalue": "can only concatenate str (not \"int\") to str",
     "output_type": "error",
     "traceback": [
      "\u001b[1;31m---------------------------------------------------------------------------\u001b[0m",
      "\u001b[1;31mTypeError\u001b[0m                                 Traceback (most recent call last)",
      "Cell \u001b[1;32mIn[55], line 3\u001b[0m\n\u001b[0;32m      1\u001b[0m text\u001b[38;5;241m=\u001b[39m\u001b[38;5;124m\"\u001b[39m\u001b[38;5;124mmy age is:\u001b[39m\u001b[38;5;124m\"\u001b[39m\n\u001b[0;32m      2\u001b[0m age\u001b[38;5;241m=\u001b[39m\u001b[38;5;241m23\u001b[39m\n\u001b[1;32m----> 3\u001b[0m \u001b[43mtext\u001b[49m\u001b[38;5;241;43m+\u001b[39;49m\u001b[43mage\u001b[49m\n",
      "\u001b[1;31mTypeError\u001b[0m: can only concatenate str (not \"int\") to str"
     ]
    }
   ],
   "source": [
    "text=\"my age is:\"\n",
    "age=23\n",
    "text+age"
   ]
  },
  {
   "cell_type": "code",
   "execution_count": 56,
   "id": "2ac38067-66e6-47a5-b2af-892b6b84d1a7",
   "metadata": {},
   "outputs": [
    {
     "data": {
      "text/plain": [
       "'my age is:23'"
      ]
     },
     "execution_count": 56,
     "metadata": {},
     "output_type": "execute_result"
    }
   ],
   "source": [
    "text=\"my age is:\"\n",
    "age=23\n",
    "text+str(age)"
   ]
  },
  {
   "cell_type": "code",
   "execution_count": 57,
   "id": "1d39fe04-c695-4ae1-b9c0-b18481631817",
   "metadata": {},
   "outputs": [
    {
     "data": {
      "text/plain": [
       "'\\nveg biryani with saffron, cardamom, and cloves, granished with fried onions \\nand cilantro\\n'"
      ]
     },
     "execution_count": 57,
     "metadata": {},
     "output_type": "execute_result"
    }
   ],
   "source": [
    "recipe"
   ]
  },
  {
   "cell_type": "code",
   "execution_count": 59,
   "id": "53bf957c-a1f7-4224-8840-96c50f57947c",
   "metadata": {},
   "outputs": [
    {
     "data": {
      "text/plain": [
       "'hey\\tbro'"
      ]
     },
     "execution_count": 59,
     "metadata": {},
     "output_type": "execute_result"
    }
   ],
   "source": [
    "s=\"hey\\tbro\"\n",
    "s"
   ]
  },
  {
   "cell_type": "code",
   "execution_count": 60,
   "id": "9f297860-a4de-45c5-9357-13f04e90e888",
   "metadata": {},
   "outputs": [
    {
     "name": "stdout",
     "output_type": "stream",
     "text": [
      "hey\tbro\n"
     ]
    }
   ],
   "source": [
    "print(s)"
   ]
  },
  {
   "cell_type": "code",
   "execution_count": 61,
   "id": "24ebb65a-72b3-4df1-b791-ee9db6f30869",
   "metadata": {},
   "outputs": [
    {
     "data": {
      "text/plain": [
       "['AAPL', 'NVDA', 'RIL', 'GOGL']"
      ]
     },
     "execution_count": 61,
     "metadata": {},
     "output_type": "execute_result"
    }
   ],
   "source": [
    "tickers=\"AAPL|NVDA|RIL|GOGL\"\n",
    "tickers.split(\"|\")"
   ]
  },
  {
   "cell_type": "code",
   "execution_count": 62,
   "id": "8e2535f3-1566-42fe-b6be-ed4e3eb1c4b8",
   "metadata": {},
   "outputs": [
    {
     "data": {
      "text/plain": [
       "['AAPL', 'NVDA', 'RIL|GOGL']"
      ]
     },
     "execution_count": 62,
     "metadata": {},
     "output_type": "execute_result"
    }
   ],
   "source": [
    "tickers.split(\"|\",2)"
   ]
  },
  {
   "cell_type": "code",
   "execution_count": 63,
   "id": "6c5e6903-bdcb-4c0d-a17e-01ee3dddbb5c",
   "metadata": {},
   "outputs": [
    {
     "data": {
      "text/plain": [
       "'    hey, to go there, you coing der ?  '"
      ]
     },
     "execution_count": 63,
     "metadata": {},
     "output_type": "execute_result"
    }
   ],
   "source": [
    "data=\"    hey, to go there, you coing der ?  \"\n",
    "data"
   ]
  },
  {
   "cell_type": "code",
   "execution_count": 64,
   "id": "e17d0fc0-7aa5-42eb-ac17-d6252e2585e8",
   "metadata": {},
   "outputs": [
    {
     "name": "stdout",
     "output_type": "stream",
     "text": [
      "    hey, to go there, you coing der ?  \n"
     ]
    }
   ],
   "source": [
    "print(data)"
   ]
  },
  {
   "cell_type": "code",
   "execution_count": 65,
   "id": "91cf24d5-7ea7-4191-8b8e-17b5c15f8a5e",
   "metadata": {},
   "outputs": [
    {
     "data": {
      "text/plain": [
       "'hey, to go there, you coing der ?'"
      ]
     },
     "execution_count": 65,
     "metadata": {},
     "output_type": "execute_result"
    }
   ],
   "source": [
    "data.strip()"
   ]
  },
  {
   "cell_type": "code",
   "execution_count": 66,
   "id": "b8706896-9ee5-4d12-9a7f-d70b6db784c7",
   "metadata": {},
   "outputs": [
    {
     "data": {
      "text/plain": [
       "True"
      ]
     },
     "execution_count": 66,
     "metadata": {},
     "output_type": "execute_result"
    }
   ],
   "source": [
    "file_name=\"report.pdf\"\n",
    "file_name.endswith('pdf')"
   ]
  },
  {
   "cell_type": "code",
   "execution_count": 2,
   "id": "59f00dc4-c2a8-4a8b-ab4b-52314b791124",
   "metadata": {},
   "outputs": [
    {
     "data": {
      "text/plain": [
       "False"
      ]
     },
     "execution_count": 2,
     "metadata": {},
     "output_type": "execute_result"
    }
   ],
   "source": [
    "word = \"Python\"\n",
    "\"PyT\" in word"
   ]
  },
  {
   "cell_type": "code",
   "execution_count": 3,
   "id": "76c1b2ba-3f5a-4e10-a4f8-2b9a6a09e1e1",
   "metadata": {},
   "outputs": [
    {
     "data": {
      "text/plain": [
       "'7'"
      ]
     },
     "execution_count": 3,
     "metadata": {},
     "output_type": "execute_result"
    }
   ],
   "source": [
    "str(7)"
   ]
  },
  {
   "cell_type": "code",
   "execution_count": null,
   "id": "435d6bf3-ef19-48df-a141-8a2bf926c0c7",
   "metadata": {},
   "outputs": [],
   "source": []
  }
 ],
 "metadata": {
  "kernelspec": {
   "display_name": "Python 3 (ipykernel)",
   "language": "python",
   "name": "python3"
  },
  "language_info": {
   "codemirror_mode": {
    "name": "ipython",
    "version": 3
   },
   "file_extension": ".py",
   "mimetype": "text/x-python",
   "name": "python",
   "nbconvert_exporter": "python",
   "pygments_lexer": "ipython3",
   "version": "3.12.4"
  }
 },
 "nbformat": 4,
 "nbformat_minor": 5
}
