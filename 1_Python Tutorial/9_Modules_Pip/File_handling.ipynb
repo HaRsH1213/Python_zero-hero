{
 "cells": [
  {
   "cell_type": "code",
   "execution_count": 2,
   "id": "deaafeeb-3994-4d2e-927d-9ae53c9cfaf1",
   "metadata": {},
   "outputs": [
    {
     "name": "stdout",
     "output_type": "stream",
     "text": [
      "Teacher: Why are you late, raghu?\n",
      "\n",
      "Raghu: Because of the sign\n",
      "\n",
      "Teacher: What sign?\n",
      "\n",
      "Raghu: The one that says \"School Ahead, Go slow\"\n"
     ]
    }
   ],
   "source": [
    "f= open(\"funny.txt\",\"r\")\n",
    "\n",
    "for line in f:\n",
    "    print(line)\n",
    "\n",
    "f.close()"
   ]
  },
  {
   "cell_type": "code",
   "execution_count": 3,
   "id": "bddf5e9e-f367-48b6-b4c8-efe1be2ee4c9",
   "metadata": {},
   "outputs": [
    {
     "name": "stdout",
     "output_type": "stream",
     "text": [
      "Teacher: Why are you late, raghu?\n",
      "\n",
      "Raghu: Because of the sign\n",
      "\n",
      "Teacher: What sign?\n",
      "\n",
      "Raghu: The one that says \"School Ahead, Go slow\"\n"
     ]
    }
   ],
   "source": [
    "with open(\"funny.txt\",\"r\") as f:\n",
    "    for line in f:\n",
    "        print(line)"
   ]
  },
  {
   "cell_type": "code",
   "execution_count": 6,
   "id": "ae985efe-c60f-4e22-814f-b8bc51d25427",
   "metadata": {},
   "outputs": [
    {
     "name": "stdout",
     "output_type": "stream",
     "text": [
      "['Teacher: Why are you late, raghu?\\n', 'Raghu: Because of the sign\\n', 'Teacher: What sign?\\n', 'Raghu: The one that says \"School Ahead, Go slow\"']\n",
      "Teacher: Why are you late, raghu?\n",
      "\n",
      "Raghu: Because of the sign\n",
      "\n",
      "Teacher: What sign?\n",
      "\n",
      "Raghu: The one that says \"School Ahead, Go slow\"\n"
     ]
    }
   ],
   "source": [
    "with open(\"funny.txt\",'r') as f:\n",
    "    lines= f.readlines()\n",
    "    print(lines)\n",
    "    for line in lines:\n",
    "        print(line)"
   ]
  },
  {
   "cell_type": "code",
   "execution_count": 14,
   "id": "eba9f2f1-c885-4a44-bf7a-e48dc869dd71",
   "metadata": {},
   "outputs": [],
   "source": [
    "with open(\"love.txt\",'w') as f:\n",
    "    f.write(\"I Love Python\\n\")\n",
    "    f.write(\"I Love Meditation\\n\")"
   ]
  },
  {
   "cell_type": "code",
   "execution_count": 15,
   "id": "08ce964e-eb0e-4e1a-bac2-b3b88af120e1",
   "metadata": {},
   "outputs": [],
   "source": [
    "with open(\"love.txt\",'a') as f:\n",
    "    f.write(\"I Love Go-lan\\n\")\n",
    "    f.write(\"I Love Fruits\\n\")"
   ]
  },
  {
   "cell_type": "code",
   "execution_count": 11,
   "id": "3ab24c66-ea3f-4896-afd4-6a071b8db4a0",
   "metadata": {},
   "outputs": [],
   "source": [
    "with open(\"love.txt\",'w') as f:\n",
    "    f.writelines(\"I love C++\\n\" \"I love scala\")"
   ]
  },
  {
   "cell_type": "markdown",
   "id": "c5173aeb-83a3-4317-82b8-a995cfe9cdd1",
   "metadata": {},
   "source": [
    "# expected output\n",
    "- rohit ==> Min:9, Max:140, Avg:100.8\n",
    "- shakib ==> Min:56, Max:102, Avg:77.0\n",
    "- babar ==> Min:5, Max:120, Avg:58.6"
   ]
  },
  {
   "cell_type": "code",
   "execution_count": 5,
   "id": "35d27eeb-bf07-4d2f-9b00-6254be82c530",
   "metadata": {},
   "outputs": [],
   "source": [
    "player_score={}\n",
    "with open('scores.csv',\"r\") as s:\n",
    "    #print(s)\n",
    "    for line in s:\n",
    "        #print(line)\n",
    "        name, _, score = line.split(',')\n",
    "        score=int(score.strip())\n",
    "        if name in player_score:\n",
    "            player_score[name].append(score)\n",
    "        else:\n",
    "            player_score[name]=[score]\n",
    "            \n",
    "        \n"
   ]
  },
  {
   "cell_type": "code",
   "execution_count": 46,
   "id": "27269f29-8b31-403d-a259-bb9d7ecc2eff",
   "metadata": {},
   "outputs": [
    {
     "data": {
      "text/plain": [
       "{'rohit': [9, 120, 105, 140, 130],\n",
       " 'shakib': [56, 78, 102, 72],\n",
       " 'babar': [56, 45, 120, 5, 67]}"
      ]
     },
     "execution_count": 46,
     "metadata": {},
     "output_type": "execute_result"
    }
   ],
   "source": [
    "player_score"
   ]
  },
  {
   "cell_type": "code",
   "execution_count": 54,
   "id": "e3d36227-decb-467e-8df1-01f003cf5f12",
   "metadata": {},
   "outputs": [
    {
     "name": "stdout",
     "output_type": "stream",
     "text": [
      "\n",
      "rohit ==> Min: 9 , Max: 140, Avg: 100.8 \n",
      "\n",
      "shakib ==> Min: 56 , Max: 102, Avg: 77.0 \n",
      "\n",
      "babar ==> Min: 5 , Max: 120, Avg: 58.6 \n"
     ]
    }
   ],
   "source": [
    "for name, score_list in player_score.items():\n",
    "    min_score=min(score_list)\n",
    "    max_score=max(score_list)\n",
    "    avg_score=sum(score_list)/len(score_list)\n",
    "    print(f'''\n",
    "{name} ==> Min: {min_score} , Max: {max_score}, Avg: {avg_score} ''')\n"
   ]
  },
  {
   "cell_type": "code",
   "execution_count": 58,
   "id": "2f5d9de7-ef63-4949-8413-2dbe70667bda",
   "metadata": {},
   "outputs": [],
   "source": [
    "with open(\"dummy.txt\",'w') as f:\n",
    "    f.write(\"hello\")"
   ]
  },
  {
   "cell_type": "code",
   "execution_count": 60,
   "id": "51be8306-9322-458b-88cc-6c50133f9d40",
   "metadata": {},
   "outputs": [
    {
     "name": "stdout",
     "output_type": "stream",
     "text": [
      "File is not exists\n"
     ]
    }
   ],
   "source": [
    "import os\n",
    "if os.path.exists(\"dummy.txt\"):\n",
    "    os.remove(\"dummy.txt\")\n",
    "else:\n",
    "    print(\"File is not exists\")"
   ]
  },
  {
   "cell_type": "code",
   "execution_count": null,
   "id": "c854527c-40d8-41ba-ad74-02019e5efce2",
   "metadata": {},
   "outputs": [],
   "source": []
  }
 ],
 "metadata": {
  "kernelspec": {
   "display_name": "Python 3 (ipykernel)",
   "language": "python",
   "name": "python3"
  },
  "language_info": {
   "codemirror_mode": {
    "name": "ipython",
    "version": 3
   },
   "file_extension": ".py",
   "mimetype": "text/x-python",
   "name": "python",
   "nbconvert_exporter": "python",
   "pygments_lexer": "ipython3",
   "version": "3.12.4"
  }
 },
 "nbformat": 4,
 "nbformat_minor": 5
}
