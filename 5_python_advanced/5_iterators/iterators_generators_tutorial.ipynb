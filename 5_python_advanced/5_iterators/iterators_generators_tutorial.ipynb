{
 "cells": [
  {
   "cell_type": "markdown",
   "id": "916bef16-2ff7-4c73-9bc8-402012ec0e2f",
   "metadata": {},
   "source": [
    "<h3 align=\"center\" style=\"color:blue\"> Iterators Tutorial</h3>"
   ]
  },
  {
   "cell_type": "code",
   "execution_count": 17,
   "id": "4488e411-3bb8-419c-a125-3557c831e35d",
   "metadata": {},
   "outputs": [],
   "source": [
    "prices = []\n",
    "\n",
    "with open('pricing.txt','r') as f:\n",
    "    for line in f:\n",
    "        ticker, country, price, date =line.split('|')\n",
    "        prices.append({\n",
    "            'ticker':ticker,\n",
    "            'country': country,\n",
    "            'price': price,\n",
    "            'date': date.strip()\n",
    "        })\n",
    "\n"
   ]
  },
  {
   "cell_type": "code",
   "execution_count": 18,
   "id": "65359bf4-e451-42c2-b391-57c65f523946",
   "metadata": {},
   "outputs": [
    {
     "data": {
      "text/plain": [
       "[{'ticker': 'MSFT', 'country': 'BRA', 'price': '381.26', 'date': '2023-10-27'},\n",
       " {'ticker': 'CSCO', 'country': 'USA', 'price': '187.64', 'date': '2023-02-12'},\n",
       " {'ticker': 'INTC', 'country': 'CAN', 'price': '173.25', 'date': '2023-04-11'},\n",
       " {'ticker': 'INTC', 'country': 'BRA', 'price': '172.87', 'date': '2023-11-16'}]"
      ]
     },
     "execution_count": 18,
     "metadata": {},
     "output_type": "execute_result"
    }
   ],
   "source": [
    "prices[:4]"
   ]
  },
  {
   "cell_type": "code",
   "execution_count": 19,
   "id": "93924bd3-bf80-4dcd-851b-7a5221913711",
   "metadata": {},
   "outputs": [
    {
     "data": {
      "text/plain": [
       "['_CHUNK_SIZE',\n",
       " '__class__',\n",
       " '__del__',\n",
       " '__delattr__',\n",
       " '__dict__',\n",
       " '__dir__',\n",
       " '__doc__',\n",
       " '__enter__',\n",
       " '__eq__',\n",
       " '__exit__',\n",
       " '__format__',\n",
       " '__ge__',\n",
       " '__getattribute__',\n",
       " '__getstate__',\n",
       " '__gt__',\n",
       " '__hash__',\n",
       " '__init__',\n",
       " '__init_subclass__',\n",
       " '__iter__',\n",
       " '__le__',\n",
       " '__lt__',\n",
       " '__module__',\n",
       " '__ne__',\n",
       " '__new__',\n",
       " '__next__',\n",
       " '__reduce__',\n",
       " '__reduce_ex__',\n",
       " '__repr__',\n",
       " '__setattr__',\n",
       " '__sizeof__',\n",
       " '__str__',\n",
       " '__subclasshook__',\n",
       " '_checkClosed',\n",
       " '_checkReadable',\n",
       " '_checkSeekable',\n",
       " '_checkWritable',\n",
       " '_finalizing',\n",
       " 'buffer',\n",
       " 'close',\n",
       " 'closed',\n",
       " 'detach',\n",
       " 'encoding',\n",
       " 'errors',\n",
       " 'fileno',\n",
       " 'flush',\n",
       " 'isatty',\n",
       " 'line_buffering',\n",
       " 'mode',\n",
       " 'name',\n",
       " 'newlines',\n",
       " 'read',\n",
       " 'readable',\n",
       " 'readline',\n",
       " 'readlines',\n",
       " 'reconfigure',\n",
       " 'seek',\n",
       " 'seekable',\n",
       " 'tell',\n",
       " 'truncate',\n",
       " 'writable',\n",
       " 'write',\n",
       " 'write_through',\n",
       " 'writelines']"
      ]
     },
     "execution_count": 19,
     "metadata": {},
     "output_type": "execute_result"
    }
   ],
   "source": [
    "dir(f)"
   ]
  },
  {
   "cell_type": "code",
   "execution_count": 20,
   "id": "357bdfd3-72ec-4932-9a8f-d0199995db3c",
   "metadata": {},
   "outputs": [],
   "source": [
    "f=open('pricing.txt','r')\n",
    "iteration= iter(f)\n"
   ]
  },
  {
   "cell_type": "code",
   "execution_count": 21,
   "id": "1728a1e1-f08a-474a-bec4-5257a001189f",
   "metadata": {},
   "outputs": [
    {
     "data": {
      "text/plain": [
       "'MSFT|BRA|381.26|2023-10-27\\n'"
      ]
     },
     "execution_count": 21,
     "metadata": {},
     "output_type": "execute_result"
    }
   ],
   "source": [
    "next(iteration)"
   ]
  },
  {
   "cell_type": "code",
   "execution_count": 22,
   "id": "c38b02c5-b7bd-4a86-a5b0-9744db64a132",
   "metadata": {},
   "outputs": [
    {
     "data": {
      "text/plain": [
       "'CSCO|USA|187.64|2023-02-12\\n'"
      ]
     },
     "execution_count": 22,
     "metadata": {},
     "output_type": "execute_result"
    }
   ],
   "source": [
    "next(iteration)\n"
   ]
  },
  {
   "cell_type": "markdown",
   "id": "774e2415-94cb-49df-ab0e-efc53875be81",
   "metadata": {},
   "source": [
    "#### Implement Custom Iterator Class"
   ]
  },
  {
   "cell_type": "code",
   "execution_count": 38,
   "id": "2fd39e26-f7ad-4498-b307-246555e9c23d",
   "metadata": {},
   "outputs": [],
   "source": [
    "class RemoteControle:\n",
    "    def __init__(self):\n",
    "        self.channels = [\"NDTV\", \"CNN\", \"ESPN\"]\n",
    "        self.index= -1\n",
    "\n",
    "    def __next__(self):\n",
    "        self.index+=1\n",
    "        if self.index == len(self.channels):\n",
    "            raise StopIteration\n",
    "        return self.channels[self.index]\n",
    "\n",
    "    def __iter__(self):\n",
    "        return self\n",
    "\n",
    "    \n",
    "    \n",
    "        "
   ]
  },
  {
   "cell_type": "code",
   "execution_count": 39,
   "id": "27d486c2-f312-460d-8306-ded63280cac1",
   "metadata": {},
   "outputs": [
    {
     "name": "stdout",
     "output_type": "stream",
     "text": [
      "NDTV\n",
      "CNN\n",
      "ESPN\n"
     ]
    }
   ],
   "source": [
    "rc=RemoteControle()\n",
    "for channel in rc:\n",
    "    print(channel)"
   ]
  },
  {
   "cell_type": "code",
   "execution_count": 48,
   "id": "9adddf00-9e2e-4122-a05b-24aa61c3d469",
   "metadata": {},
   "outputs": [
    {
     "name": "stdout",
     "output_type": "stream",
     "text": [
      "Turned to NDTV \n",
      "Turned to CNN \n",
      "Turned to ESPN \n"
     ]
    },
    {
     "ename": "StopIteration",
     "evalue": "",
     "output_type": "error",
     "traceback": [
      "\u001b[1;31m---------------------------------------------------------------------------\u001b[0m",
      "\u001b[1;31mStopIteration\u001b[0m                             Traceback (most recent call last)",
      "Cell \u001b[1;32mIn[48], line 4\u001b[0m\n\u001b[0;32m      2\u001b[0m \u001b[38;5;66;03m# Iterating over channels\u001b[39;00m\n\u001b[0;32m      3\u001b[0m \u001b[38;5;28;01mfor\u001b[39;00m _ \u001b[38;5;129;01min\u001b[39;00m \u001b[38;5;28mrange\u001b[39m(\u001b[38;5;241m10\u001b[39m):\n\u001b[1;32m----> 4\u001b[0m     \u001b[38;5;28mprint\u001b[39m(\u001b[38;5;124mf\u001b[39m\u001b[38;5;124m\"\u001b[39m\u001b[38;5;124mTurned to \u001b[39m\u001b[38;5;132;01m{\u001b[39;00m\u001b[38;5;28;43mnext\u001b[39;49m\u001b[43m(\u001b[49m\u001b[43mrc\u001b[49m\u001b[43m)\u001b[49m\u001b[38;5;132;01m}\u001b[39;00m\u001b[38;5;124m \u001b[39m\u001b[38;5;124m\"\u001b[39m)\n",
      "Cell \u001b[1;32mIn[38], line 9\u001b[0m, in \u001b[0;36mRemoteControle.__next__\u001b[1;34m(self)\u001b[0m\n\u001b[0;32m      7\u001b[0m \u001b[38;5;28mself\u001b[39m\u001b[38;5;241m.\u001b[39mindex\u001b[38;5;241m+\u001b[39m\u001b[38;5;241m=\u001b[39m\u001b[38;5;241m1\u001b[39m\n\u001b[0;32m      8\u001b[0m \u001b[38;5;28;01mif\u001b[39;00m \u001b[38;5;28mself\u001b[39m\u001b[38;5;241m.\u001b[39mindex \u001b[38;5;241m==\u001b[39m \u001b[38;5;28mlen\u001b[39m(\u001b[38;5;28mself\u001b[39m\u001b[38;5;241m.\u001b[39mchannels):\n\u001b[1;32m----> 9\u001b[0m     \u001b[38;5;28;01mraise\u001b[39;00m \u001b[38;5;167;01mStopIteration\u001b[39;00m\n\u001b[0;32m     10\u001b[0m \u001b[38;5;28;01mreturn\u001b[39;00m \u001b[38;5;28mself\u001b[39m\u001b[38;5;241m.\u001b[39mchannels[\u001b[38;5;28mself\u001b[39m\u001b[38;5;241m.\u001b[39mindex]\n",
      "\u001b[1;31mStopIteration\u001b[0m: "
     ]
    }
   ],
   "source": [
    "rc=RemoteControle()\n",
    "# Iterating over channels\n",
    "for _ in range(10):\n",
    "    print(f\"Turned to {next(rc)} \")"
   ]
  },
  {
   "cell_type": "code",
   "execution_count": 56,
   "id": "5eb2a163-7573-4aaa-b0ce-e91a0f1065ba",
   "metadata": {},
   "outputs": [
    {
     "name": "stdout",
     "output_type": "stream",
     "text": [
      "0\n",
      "1\n",
      "1\n",
      "2\n",
      "3\n",
      "5\n",
      "8\n",
      "13\n",
      "21\n",
      "34\n"
     ]
    }
   ],
   "source": [
    "\n",
    "list_new= []\n",
    "for n in range(10):\n",
    "    if n>1:\n",
    "        print(list_new[n-1]+list_new[n-2])\n",
    "        list_new.append(list_new[n-1]+list_new[n-2])\n",
    "        \n",
    "    else:\n",
    "        print(list[n])\n",
    "        list_new.append(list[n])\n",
    "    "
   ]
  },
  {
   "cell_type": "code",
   "execution_count": 57,
   "id": "62ad4a37-d03c-4548-a038-3cab6de345d5",
   "metadata": {},
   "outputs": [],
   "source": [
    "def remote_controle():\n",
    "    yield \"NDTV\"\n",
    "    yield \"CNN\"\n",
    "    yield \"ESPN\""
   ]
  },
  {
   "cell_type": "code",
   "execution_count": 58,
   "id": "c0dc9c1c-30ef-4d3b-9b40-590436767951",
   "metadata": {},
   "outputs": [
    {
     "data": {
      "text/plain": [
       "generator"
      ]
     },
     "execution_count": 58,
     "metadata": {},
     "output_type": "execute_result"
    }
   ],
   "source": [
    "itr= remote_controle()\n",
    "type(itr)"
   ]
  },
  {
   "cell_type": "code",
   "execution_count": 59,
   "id": "00bf34ff-fa06-423b-bbfb-931b3383ba0d",
   "metadata": {},
   "outputs": [
    {
     "data": {
      "text/plain": [
       "'NDTV'"
      ]
     },
     "execution_count": 59,
     "metadata": {},
     "output_type": "execute_result"
    }
   ],
   "source": [
    "next(itr)"
   ]
  },
  {
   "cell_type": "code",
   "execution_count": 60,
   "id": "de94635e-6850-4c2f-9f10-c9d8eff5f871",
   "metadata": {},
   "outputs": [
    {
     "data": {
      "text/plain": [
       "'CNN'"
      ]
     },
     "execution_count": 60,
     "metadata": {},
     "output_type": "execute_result"
    }
   ],
   "source": [
    "next(itr)"
   ]
  },
  {
   "cell_type": "code",
   "execution_count": 61,
   "id": "7e6dcb94-c565-455e-9cce-acf42fa923b6",
   "metadata": {},
   "outputs": [
    {
     "data": {
      "text/plain": [
       "'ESPN'"
      ]
     },
     "execution_count": 61,
     "metadata": {},
     "output_type": "execute_result"
    }
   ],
   "source": [
    "next(itr)"
   ]
  },
  {
   "cell_type": "code",
   "execution_count": 62,
   "id": "58b73f39-f2cb-4bd2-8a9e-311cab81d74c",
   "metadata": {},
   "outputs": [
    {
     "ename": "StopIteration",
     "evalue": "",
     "output_type": "error",
     "traceback": [
      "\u001b[1;31m---------------------------------------------------------------------------\u001b[0m",
      "\u001b[1;31mStopIteration\u001b[0m                             Traceback (most recent call last)",
      "Cell \u001b[1;32mIn[62], line 1\u001b[0m\n\u001b[1;32m----> 1\u001b[0m \u001b[38;5;28;43mnext\u001b[39;49m\u001b[43m(\u001b[49m\u001b[43mitr\u001b[49m\u001b[43m)\u001b[49m\n",
      "\u001b[1;31mStopIteration\u001b[0m: "
     ]
    }
   ],
   "source": [
    "next(itr)"
   ]
  },
  {
   "cell_type": "code",
   "execution_count": 67,
   "id": "c1af6d9c-7040-4066-a95b-e302e3fc2e9b",
   "metadata": {},
   "outputs": [
    {
     "name": "stdout",
     "output_type": "stream",
     "text": [
      "NDTV\n",
      "CNN\n",
      "ESPN\n"
     ]
    }
   ],
   "source": [
    "for channel in remote_controle():\n",
    "    print(channel)"
   ]
  },
  {
   "cell_type": "code",
   "execution_count": 74,
   "id": "d6ee234a-32dd-472f-90c9-6b209fc5481f",
   "metadata": {},
   "outputs": [],
   "source": [
    "def get_company_info():\n",
    "    list=[]\n",
    "    for i in range(3):\n",
    "        with open(f'stock_{i+1}.txt','r') as f:\n",
    "            content= f.read()\n",
    "            list.append(content)\n",
    "\n",
    "    return list"
   ]
  },
  {
   "cell_type": "code",
   "execution_count": 75,
   "id": "dbb4beec-135c-4043-9957-753703311d43",
   "metadata": {},
   "outputs": [
    {
     "data": {
      "text/plain": [
       "['{\\n    \"ticker\": \"AAPL\",\\n    \"price\": 227.67,\\n    \"date\": \"2024-08-28\",\\n    \"pe\": 23.4,\\n    \"market_cap\": 2410000000000.0,\\n    \"dividend_yield\": 0.6,\\n    \"price_to_book\": 31.8,\\n    \"dps\": 0.92,\\n    \"ebitda\": 94680000000.0,\\n    \"price_to_sales\": 7.3,\\n    \"earnings_per_share\": 9.73,\\n    \"revenue\": 387530000000.0,\\n    \"gross_margin\": 43.3,\\n    \"net_profit_margin\": 25.9,\\n    \"debt_to_equity\": 1.8,\\n    \"cash_flow\": 104300000000.0,\\n    \"operating_margin\": 30.2\\n}',\n",
       " '{\\n    \"ticker\": \"RIL\",\\n    \"price\": 2589.75,\\n    \"date\": \"2024-08-28\",\\n    \"pe\": 26.7,\\n    \"market_cap\": 1950000000000.0,\\n    \"dividend_yield\": 0.8,\\n    \"price_to_book\": 2.9,\\n    \"dps\": 15.0,\\n    \"ebitda\": 1100000000000.0,\\n    \"price_to_sales\": 1.5,\\n    \"earnings_per_share\": 97.5,\\n    \"revenue\": 6800000000000.0,\\n    \"gross_margin\": 20.4,\\n    \"net_profit_margin\": 6.3,\\n    \"debt_to_equity\": 0.4,\\n    \"cash_flow\": 820500000000.0\\n}\\n',\n",
       " '{\\n    \"ticker\": \"NVDA\",\\n    \"price\": 492.21,\\n    \"date\": \"2024-08-28\",\\n    \"pe\": 45.3,\\n    \"market_cap\": 1230000000000.0,\\n    \"dividend_yield\": 0.07,\\n    \"price_to_book\": 23.5,\\n    \"dps\": 0.16,\\n    \"ebitda\": 16400000000.0,\\n    \"price_to_sales\": 17.6,\\n    \"earnings_per_share\": 10.85,\\n    \"revenue\": 26900000000.0,\\n    \"gross_margin\": 64.1,\\n    \"net_profit_margin\": 36.2,\\n    \"debt_to_equity\": 0.5,\\n    \"cash_flow\": 9100000000.0,\\n    \"operating_margin\": 40.8\\n}\\n']"
      ]
     },
     "execution_count": 75,
     "metadata": {},
     "output_type": "execute_result"
    }
   ],
   "source": [
    "get_company_info()"
   ]
  },
  {
   "cell_type": "code",
   "execution_count": 78,
   "id": "89a0fafb-ae78-4555-9a4d-3b0239dbc132",
   "metadata": {},
   "outputs": [],
   "source": [
    "def _get_company_info():\n",
    "    for i in range(3):\n",
    "        with open(f\"stock_{i+1}.txt \",'r') as f:\n",
    "            content =f.read()\n",
    "            yield(content)\n",
    "            \n"
   ]
  },
  {
   "cell_type": "code",
   "execution_count": 79,
   "id": "6af843ab-0ce5-43ec-9730-3ab557a36d4a",
   "metadata": {},
   "outputs": [
    {
     "name": "stdout",
     "output_type": "stream",
     "text": [
      "{\n",
      "    \"ticker\": \"AAPL\",\n",
      "    \"price\": 227.67,\n",
      "    \"date\": \"2024-08-28\",\n",
      "    \"pe\": 23.4,\n",
      "    \"market_cap\": 2410000000000.0,\n",
      "    \"dividend_yield\": 0.6,\n",
      "    \"price_to_book\": 31.8,\n",
      "    \"dps\": 0.92,\n",
      "    \"ebitda\": 94680000000.0,\n",
      "    \"price_to_sales\": 7.3,\n",
      "    \"earnings_per_share\": 9.73,\n",
      "    \"revenue\": 387530000000.0,\n",
      "    \"gross_margin\": 43.3,\n",
      "    \"net_profit_margin\": 25.9,\n",
      "    \"debt_to_equity\": 1.8,\n",
      "    \"cash_flow\": 104300000000.0,\n",
      "    \"operating_margin\": 30.2\n",
      "}\n",
      "{\n",
      "    \"ticker\": \"RIL\",\n",
      "    \"price\": 2589.75,\n",
      "    \"date\": \"2024-08-28\",\n",
      "    \"pe\": 26.7,\n",
      "    \"market_cap\": 1950000000000.0,\n",
      "    \"dividend_yield\": 0.8,\n",
      "    \"price_to_book\": 2.9,\n",
      "    \"dps\": 15.0,\n",
      "    \"ebitda\": 1100000000000.0,\n",
      "    \"price_to_sales\": 1.5,\n",
      "    \"earnings_per_share\": 97.5,\n",
      "    \"revenue\": 6800000000000.0,\n",
      "    \"gross_margin\": 20.4,\n",
      "    \"net_profit_margin\": 6.3,\n",
      "    \"debt_to_equity\": 0.4,\n",
      "    \"cash_flow\": 820500000000.0\n",
      "}\n",
      "\n",
      "{\n",
      "    \"ticker\": \"NVDA\",\n",
      "    \"price\": 492.21,\n",
      "    \"date\": \"2024-08-28\",\n",
      "    \"pe\": 45.3,\n",
      "    \"market_cap\": 1230000000000.0,\n",
      "    \"dividend_yield\": 0.07,\n",
      "    \"price_to_book\": 23.5,\n",
      "    \"dps\": 0.16,\n",
      "    \"ebitda\": 16400000000.0,\n",
      "    \"price_to_sales\": 17.6,\n",
      "    \"earnings_per_share\": 10.85,\n",
      "    \"revenue\": 26900000000.0,\n",
      "    \"gross_margin\": 64.1,\n",
      "    \"net_profit_margin\": 36.2,\n",
      "    \"debt_to_equity\": 0.5,\n",
      "    \"cash_flow\": 9100000000.0,\n",
      "    \"operating_margin\": 40.8\n",
      "}\n",
      "\n"
     ]
    }
   ],
   "source": [
    "for content in _get_company_info():\n",
    "    print(content)\n"
   ]
  },
  {
   "cell_type": "markdown",
   "id": "fb30f3fd-bec9-4b3e-afe9-12525fcd9ef0",
   "metadata": {},
   "source": [
    "#### Fibonacci Sequence Generator"
   ]
  },
  {
   "cell_type": "code",
   "execution_count": 80,
   "id": "a54d1fe5-2745-4319-b691-f8468c60d02b",
   "metadata": {},
   "outputs": [],
   "source": [
    "def fibonacci():\n",
    "    a, b=0,1\n",
    "    while True:\n",
    "        yield a\n",
    "        a,b=b,a+b\n",
    "        "
   ]
  },
  {
   "cell_type": "code",
   "execution_count": 81,
   "id": "6b5e3612-b381-414b-b2f8-03d376fcb585",
   "metadata": {},
   "outputs": [
    {
     "name": "stdout",
     "output_type": "stream",
     "text": [
      "0\n",
      "1\n",
      "1\n",
      "2\n",
      "3\n",
      "5\n",
      "8\n",
      "13\n",
      "21\n",
      "34\n"
     ]
    }
   ],
   "source": [
    "feb= fibonacci()\n",
    "for _ in range(10):\n",
    "    print(next(feb))\n",
    "    "
   ]
  },
  {
   "cell_type": "code",
   "execution_count": null,
   "id": "3c43b94c-95b7-4941-ae09-d2a5b92cc00c",
   "metadata": {},
   "outputs": [],
   "source": []
  }
 ],
 "metadata": {
  "kernelspec": {
   "display_name": "Python 3 (ipykernel)",
   "language": "python",
   "name": "python3"
  },
  "language_info": {
   "codemirror_mode": {
    "name": "ipython",
    "version": 3
   },
   "file_extension": ".py",
   "mimetype": "text/x-python",
   "name": "python",
   "nbconvert_exporter": "python",
   "pygments_lexer": "ipython3",
   "version": "3.12.4"
  }
 },
 "nbformat": 4,
 "nbformat_minor": 5
}
