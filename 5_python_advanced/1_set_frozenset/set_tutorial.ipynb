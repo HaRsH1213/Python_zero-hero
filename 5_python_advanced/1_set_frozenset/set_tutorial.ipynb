{
 "cells": [
  {
   "cell_type": "markdown",
   "id": "1d812db0-c2da-4772-9960-25cfba5524c8",
   "metadata": {},
   "source": [
    "<h2 style=\"color:blue\" align=\"center\"> Set & Frozenset</h2>"
   ]
  },
  {
   "cell_type": "markdown",
   "id": "028cfba6-bdea-4308-8353-9d57bc73cc31",
   "metadata": {},
   "source": [
    "Sets are unordered collections of items where duplicates are not allowed, making them ideal for situations where you need to ensure uniqueness or perform efficient membership tests."
   ]
  },
  {
   "cell_type": "code",
   "execution_count": 1,
   "id": "87e82874-f839-4112-b681-d7f1d9cd31b9",
   "metadata": {},
   "outputs": [
    {
     "data": {
      "text/plain": [
       "{1, 2, 3, 4}"
      ]
     },
     "execution_count": 1,
     "metadata": {},
     "output_type": "execute_result"
    }
   ],
   "source": [
    "my_set = set([1,2,3,2,3,4])\n",
    "my_set"
   ]
  },
  {
   "cell_type": "markdown",
   "id": "6329ce92-2390-4468-a71e-73fa68abb9d7",
   "metadata": {},
   "source": [
    "as you can see that above it removed duplicates and it keep the unique elements"
   ]
  },
  {
   "cell_type": "code",
   "execution_count": 2,
   "id": "045340bb-f5e7-4a27-9a81-04358e03ceb7",
   "metadata": {},
   "outputs": [
    {
     "ename": "TypeError",
     "evalue": "'set' object is not subscriptable",
     "output_type": "error",
     "traceback": [
      "\u001b[1;31m---------------------------------------------------------------------------\u001b[0m",
      "\u001b[1;31mTypeError\u001b[0m                                 Traceback (most recent call last)",
      "Cell \u001b[1;32mIn[2], line 1\u001b[0m\n\u001b[1;32m----> 1\u001b[0m \u001b[43mmy_set\u001b[49m\u001b[43m[\u001b[49m\u001b[38;5;241;43m0\u001b[39;49m\u001b[43m]\u001b[49m\n",
      "\u001b[1;31mTypeError\u001b[0m: 'set' object is not subscriptable"
     ]
    }
   ],
   "source": [
    "my_set[0]"
   ]
  },
  {
   "cell_type": "markdown",
   "id": "09e0df66-40dc-4e85-876e-6270220075b2",
   "metadata": {},
   "source": [
    "As you can see above that is no order of elements. It is an unordered collection of items"
   ]
  },
  {
   "cell_type": "code",
   "execution_count": 3,
   "id": "8bec07e2-c414-4de7-851b-e8bf6bb8f6e6",
   "metadata": {},
   "outputs": [
    {
     "data": {
      "text/plain": [
       "{1, 2, 3, 4}"
      ]
     },
     "execution_count": 3,
     "metadata": {},
     "output_type": "execute_result"
    }
   ],
   "source": [
    "# other way to initialize the set\n",
    "my_set= {1,2,3,4}\n",
    "my_set"
   ]
  },
  {
   "cell_type": "markdown",
   "id": "952afa6a-6d9a-479d-ae63-c2b5a289d81a",
   "metadata": {},
   "source": [
    "### in, add, remove"
   ]
  },
  {
   "cell_type": "code",
   "execution_count": 5,
   "id": "93a82280-0944-409f-a11c-508d994d16af",
   "metadata": {},
   "outputs": [
    {
     "data": {
      "text/plain": [
       "{'Biryani', 'Dosa', 'Idli'}"
      ]
     },
     "execution_count": 5,
     "metadata": {},
     "output_type": "execute_result"
    }
   ],
   "source": [
    "menu = set(['Dosa','Biryani','Idli'])\n",
    "menu"
   ]
  },
  {
   "cell_type": "code",
   "execution_count": 7,
   "id": "a50cf0ad-2921-4e9a-97e1-580c3b1c1a75",
   "metadata": {},
   "outputs": [
    {
     "data": {
      "text/plain": [
       "True"
      ]
     },
     "execution_count": 7,
     "metadata": {},
     "output_type": "execute_result"
    }
   ],
   "source": [
    "'Dosa' in menu"
   ]
  },
  {
   "cell_type": "code",
   "execution_count": 8,
   "id": "76019a0a-c0a7-4f2b-9b48-858bcba73fb4",
   "metadata": {},
   "outputs": [
    {
     "data": {
      "text/plain": [
       "False"
      ]
     },
     "execution_count": 8,
     "metadata": {},
     "output_type": "execute_result"
    }
   ],
   "source": [
    "\"Samosa\" in menu"
   ]
  },
  {
   "cell_type": "code",
   "execution_count": 11,
   "id": "3dfb9995-2f44-4f6c-bf74-b99b47a775dc",
   "metadata": {},
   "outputs": [
    {
     "data": {
      "text/plain": [
       "{'Biryani', 'Dosa', 'Idli', 'pizza'}"
      ]
     },
     "execution_count": 11,
     "metadata": {},
     "output_type": "execute_result"
    }
   ],
   "source": [
    "menu.add('pizza')\n",
    "menu"
   ]
  },
  {
   "cell_type": "code",
   "execution_count": 15,
   "id": "4a7a60c1-bf6c-4254-bf1d-9483834fa979",
   "metadata": {},
   "outputs": [
    {
     "data": {
      "text/plain": [
       "{'Dosa', 'Idli', 'pizza'}"
      ]
     },
     "execution_count": 15,
     "metadata": {},
     "output_type": "execute_result"
    }
   ],
   "source": [
    "menu.remove('Biryani')\n",
    "menu"
   ]
  },
  {
   "cell_type": "markdown",
   "id": "1d0e4dce-b97d-4b0f-bab2-2af0c011c520",
   "metadata": {},
   "source": [
    "### Frozenset"
   ]
  },
  {
   "cell_type": "markdown",
   "id": "a050b65d-e146-403f-acb0-23f40891fd0b",
   "metadata": {},
   "source": [
    "Frozenset is immutable and will not allow update of elements"
   ]
  },
  {
   "cell_type": "code",
   "execution_count": 16,
   "id": "20e28077-9068-4bce-979d-e2cb13e64bb4",
   "metadata": {},
   "outputs": [
    {
     "data": {
      "text/plain": [
       "frozenset({'Birayani', 'Dosa', 'Idli'})"
      ]
     },
     "execution_count": 16,
     "metadata": {},
     "output_type": "execute_result"
    }
   ],
   "source": [
    "menu= frozenset(['Dosa','Birayani','Idli'])\n",
    "menu"
   ]
  },
  {
   "cell_type": "code",
   "execution_count": 17,
   "id": "cd46c648-a955-47da-a5f7-78ffa2e929f2",
   "metadata": {},
   "outputs": [
    {
     "ename": "AttributeError",
     "evalue": "'frozenset' object has no attribute 'add'",
     "output_type": "error",
     "traceback": [
      "\u001b[1;31m---------------------------------------------------------------------------\u001b[0m",
      "\u001b[1;31mAttributeError\u001b[0m                            Traceback (most recent call last)",
      "Cell \u001b[1;32mIn[17], line 1\u001b[0m\n\u001b[1;32m----> 1\u001b[0m \u001b[43mmenu\u001b[49m\u001b[38;5;241;43m.\u001b[39;49m\u001b[43madd\u001b[49m(\u001b[38;5;124m'\u001b[39m\u001b[38;5;124mpizza\u001b[39m\u001b[38;5;124m'\u001b[39m)\n",
      "\u001b[1;31mAttributeError\u001b[0m: 'frozenset' object has no attribute 'add'"
     ]
    }
   ],
   "source": [
    "menu.add('pizza')"
   ]
  },
  {
   "cell_type": "markdown",
   "id": "4db263f6-bf0b-401c-84d0-63c6e045c083",
   "metadata": {},
   "source": [
    "### Retrieve unique customers names from transactions records"
   ]
  },
  {
   "cell_type": "code",
   "execution_count": 18,
   "id": "25f3d067-1fef-49dd-b799-8a48adabf25c",
   "metadata": {},
   "outputs": [],
   "source": [
    "transactions = [\n",
    "    {'customer_name': \"Mira\", \"amount\": 56, \"date\": \"2024-08-01\"},\n",
    "    {'customer_name': \"Mira\", \"amount\": 12.3, \"date\": \"2024-09-05\"},\n",
    "    {'customer_name': \"Mohan\", \"amount\": 21, \"date\": \"2024-09-03\"},\n",
    "    {'customer_name': \"Mohan\", \"amount\": 36.8, \"date\": \"2024-09-10\"},\n",
    "    {'customer_name': \"Lucy\", \"amount\": 66.3, \"date\": \"2024-09-10\"}\n",
    "]"
   ]
  },
  {
   "cell_type": "markdown",
   "id": "de33ec3c-4c53-4459-b916-f1356909cf92",
   "metadata": {},
   "source": [
    "customers=set()\n",
    "for trans in transactions:\n",
    "    customers.add(trans['customer_name'])\n",
    "\n",
    "customers"
   ]
  },
  {
   "cell_type": "code",
   "execution_count": 21,
   "id": "72b2cbef-d6ae-499c-b9cf-a84a64885efe",
   "metadata": {},
   "outputs": [],
   "source": [
    "customers=list(customers)"
   ]
  },
  {
   "cell_type": "code",
   "execution_count": 22,
   "id": "c8b39188-38de-4383-957d-67ea02bcd7fe",
   "metadata": {},
   "outputs": [
    {
     "data": {
      "text/plain": [
       "['Mira', 'Lucy', 'Mohan']"
      ]
     },
     "execution_count": 22,
     "metadata": {},
     "output_type": "execute_result"
    }
   ],
   "source": [
    "customers"
   ]
  },
  {
   "cell_type": "markdown",
   "id": "a7f716c9-8004-4402-a4c6-2676c5acb63d",
   "metadata": {},
   "source": [
    "### Intersection, Union, Substraction etc"
   ]
  },
  {
   "cell_type": "code",
   "execution_count": 23,
   "id": "8abf269c-9810-4946-bee5-97d7c6a54902",
   "metadata": {},
   "outputs": [],
   "source": [
    "a = {\"Mira\", \"Mohan\", \"Lucy\", \"Ahmed\"}\n",
    "b = {\"Chen\", \"Mohan\", \"Radha\", \"Maria\"}"
   ]
  },
  {
   "cell_type": "markdown",
   "id": "4d4cb915-138c-4e36-b2c5-ad27c9e5b5c1",
   "metadata": {},
   "source": [
    "#### Find common students"
   ]
  },
  {
   "cell_type": "code",
   "execution_count": 24,
   "id": "ab73418e-ce8e-4248-bdc5-56c37350bd88",
   "metadata": {},
   "outputs": [
    {
     "data": {
      "text/plain": [
       "{'Mohan'}"
      ]
     },
     "execution_count": 24,
     "metadata": {},
     "output_type": "execute_result"
    }
   ],
   "source": [
    "a &b"
   ]
  },
  {
   "cell_type": "code",
   "execution_count": 25,
   "id": "7b7ab5ba-50f4-4b74-9ada-717da8fb93fd",
   "metadata": {},
   "outputs": [
    {
     "data": {
      "text/plain": [
       "{'Mohan'}"
      ]
     },
     "execution_count": 25,
     "metadata": {},
     "output_type": "execute_result"
    }
   ],
   "source": [
    "# same thing can be done using intersection function\n",
    "a.intersection(b)"
   ]
  },
  {
   "cell_type": "markdown",
   "id": "ef9c39e0-3f00-4fa7-98f8-37257d3d59c4",
   "metadata": {},
   "source": [
    "#### Find all students"
   ]
  },
  {
   "cell_type": "code",
   "execution_count": 27,
   "id": "a7d48c0d-0967-478f-89a4-98d2ba23d686",
   "metadata": {},
   "outputs": [],
   "source": [
    "all_students= a|b"
   ]
  },
  {
   "cell_type": "code",
   "execution_count": 28,
   "id": "815d0b7e-798d-449c-8c2a-1fcf6ec2779f",
   "metadata": {},
   "outputs": [
    {
     "data": {
      "text/plain": [
       "{'Ahmed', 'Chen', 'Lucy', 'Maria', 'Mira', 'Mohan', 'Radha'}"
      ]
     },
     "execution_count": 28,
     "metadata": {},
     "output_type": "execute_result"
    }
   ],
   "source": [
    "all_students"
   ]
  },
  {
   "cell_type": "code",
   "execution_count": 29,
   "id": "035b9677-3505-4750-aace-2b6d17f96607",
   "metadata": {},
   "outputs": [
    {
     "data": {
      "text/plain": [
       "{'Ahmed', 'Chen', 'Lucy', 'Maria', 'Mira', 'Mohan', 'Radha'}"
      ]
     },
     "execution_count": 29,
     "metadata": {},
     "output_type": "execute_result"
    }
   ],
   "source": [
    "# same thing can be done using union function\n",
    "a.union(b)"
   ]
  },
  {
   "cell_type": "markdown",
   "id": "392b268f-6d03-4abc-96a3-f2054a9edffd",
   "metadata": {},
   "source": [
    "#### Find students who participated in class a but not in b"
   ]
  },
  {
   "cell_type": "code",
   "execution_count": 30,
   "id": "124bcdcf-d0d3-47ba-b9d2-881316d97da9",
   "metadata": {},
   "outputs": [
    {
     "data": {
      "text/plain": [
       "{'Ahmed', 'Lucy', 'Mira'}"
      ]
     },
     "execution_count": 30,
     "metadata": {},
     "output_type": "execute_result"
    }
   ],
   "source": [
    "a-b"
   ]
  },
  {
   "cell_type": "markdown",
   "id": "13e5713a-d171-46a9-a746-7f2441abea75",
   "metadata": {},
   "source": [
    "Regular set allows to add or remove items"
   ]
  },
  {
   "cell_type": "code",
   "execution_count": null,
   "id": "1267d974-0add-423a-8978-80f3274a134f",
   "metadata": {},
   "outputs": [],
   "source": []
  }
 ],
 "metadata": {
  "kernelspec": {
   "display_name": "Python 3 (ipykernel)",
   "language": "python",
   "name": "python3"
  },
  "language_info": {
   "codemirror_mode": {
    "name": "ipython",
    "version": 3
   },
   "file_extension": ".py",
   "mimetype": "text/x-python",
   "name": "python",
   "nbconvert_exporter": "python",
   "pygments_lexer": "ipython3",
   "version": "3.12.4"
  }
 },
 "nbformat": 4,
 "nbformat_minor": 5
}
