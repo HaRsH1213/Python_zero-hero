{
 "cells": [
  {
   "cell_type": "markdown",
   "id": "dfb46e84-3c9b-468f-93ba-546fd74a416d",
   "metadata": {},
   "source": [
    "<h2 align=\"center\" style=\"color:blue\">Interacting with API Tutorial</h2>"
   ]
  },
  {
   "cell_type": "code",
   "execution_count": 4,
   "id": "f91c0bf1-f033-46f8-8be0-aa0f32d7ac72",
   "metadata": {},
   "outputs": [],
   "source": [
    "import requests"
   ]
  },
  {
   "cell_type": "code",
   "execution_count": 5,
   "id": "9f95f718-b5b4-4296-9526-fc98dec5787f",
   "metadata": {},
   "outputs": [
    {
     "data": {
      "text/plain": [
       "<Response [200]>"
      ]
     },
     "execution_count": 5,
     "metadata": {},
     "output_type": "execute_result"
    }
   ],
   "source": [
    "# URL of the API endpoint\n",
    "url= \"https://jsonplaceholder.typicode.com/posts\"\n",
    "\n",
    "response = requests.get(url)\n",
    "response"
   ]
  },
  {
   "cell_type": "code",
   "execution_count": 8,
   "id": "f7f696a1-1231-4ca0-9052-a848cdb5f4b3",
   "metadata": {},
   "outputs": [
    {
     "data": {
      "text/plain": [
       "200"
      ]
     },
     "execution_count": 8,
     "metadata": {},
     "output_type": "execute_result"
    }
   ],
   "source": [
    "response.status_code"
   ]
  },
  {
   "cell_type": "code",
   "execution_count": 6,
   "id": "ae5d67cb-ef04-45bf-be93-bcd9d0254e3a",
   "metadata": {},
   "outputs": [
    {
     "data": {
      "text/plain": [
       "['__attrs__',\n",
       " '__bool__',\n",
       " '__class__',\n",
       " '__delattr__',\n",
       " '__dict__',\n",
       " '__dir__',\n",
       " '__doc__',\n",
       " '__enter__',\n",
       " '__eq__',\n",
       " '__exit__',\n",
       " '__format__',\n",
       " '__ge__',\n",
       " '__getattribute__',\n",
       " '__getstate__',\n",
       " '__gt__',\n",
       " '__hash__',\n",
       " '__init__',\n",
       " '__init_subclass__',\n",
       " '__iter__',\n",
       " '__le__',\n",
       " '__lt__',\n",
       " '__module__',\n",
       " '__ne__',\n",
       " '__new__',\n",
       " '__nonzero__',\n",
       " '__reduce__',\n",
       " '__reduce_ex__',\n",
       " '__repr__',\n",
       " '__setattr__',\n",
       " '__setstate__',\n",
       " '__sizeof__',\n",
       " '__str__',\n",
       " '__subclasshook__',\n",
       " '__weakref__',\n",
       " '_content',\n",
       " '_content_consumed',\n",
       " '_next',\n",
       " 'apparent_encoding',\n",
       " 'close',\n",
       " 'connection',\n",
       " 'content',\n",
       " 'cookies',\n",
       " 'elapsed',\n",
       " 'encoding',\n",
       " 'headers',\n",
       " 'history',\n",
       " 'is_permanent_redirect',\n",
       " 'is_redirect',\n",
       " 'iter_content',\n",
       " 'iter_lines',\n",
       " 'json',\n",
       " 'links',\n",
       " 'next',\n",
       " 'ok',\n",
       " 'raise_for_status',\n",
       " 'raw',\n",
       " 'reason',\n",
       " 'request',\n",
       " 'status_code',\n",
       " 'text',\n",
       " 'url']"
      ]
     },
     "execution_count": 6,
     "metadata": {},
     "output_type": "execute_result"
    }
   ],
   "source": [
    "dir(response)"
   ]
  },
  {
   "cell_type": "code",
   "execution_count": 10,
   "id": "4e008cd8-8b99-4625-a168-07ec9139e157",
   "metadata": {},
   "outputs": [
    {
     "name": "stdout",
     "output_type": "stream",
     "text": [
      "{'userId': 1, 'id': 1, 'title': 'sunt aut facere repellat provident occaecati excepturi optio reprehenderit', 'body': 'quia et suscipit\\nsuscipit recusandae consequuntur expedita et cum\\nreprehenderit molestiae ut ut quas totam\\nnostrum rerum est autem sunt rem eveniet architecto'}\n"
     ]
    }
   ],
   "source": [
    "if response.status_code == 200:\n",
    "    data= response.json()\n",
    "    print(data[0])\n",
    "\n",
    "else:\n",
    "    print(\"Failed to retrieve data\")"
   ]
  },
  {
   "cell_type": "markdown",
   "id": "ab87a28c-4f3b-41cf-bb29-303344aeb6fb",
   "metadata": {},
   "source": [
    "### POST Request"
   ]
  },
  {
   "cell_type": "code",
   "execution_count": 15,
   "id": "75e4c490-ed37-42d9-af43-a93f86e6449a",
   "metadata": {},
   "outputs": [
    {
     "data": {
      "text/plain": [
       "201"
      ]
     },
     "execution_count": 15,
     "metadata": {},
     "output_type": "execute_result"
    }
   ],
   "source": [
    "# URL of the API endpoint\n",
    "url= \"https://jsonplaceholder.typicode.com/posts\"\n",
    "\n",
    "data={\n",
    "    'title' : 'foo',\n",
    "    'body' : 'bar',\n",
    "    'user_id' : 1\n",
    "}\n",
    "\n",
    "response= requests.post(url,json=data)\n",
    "response.status_code"
   ]
  },
  {
   "cell_type": "code",
   "execution_count": 14,
   "id": "8e6c72e9-65c0-4c80-93f5-d1d97f244175",
   "metadata": {},
   "outputs": [
    {
     "data": {
      "text/plain": [
       "{'title': 'foo', 'body': 'bar', 'user_id': 1, 'id': 101}"
      ]
     },
     "execution_count": 14,
     "metadata": {},
     "output_type": "execute_result"
    }
   ],
   "source": [
    "response.json()"
   ]
  },
  {
   "cell_type": "code",
   "execution_count": 16,
   "id": "99cb15cd-ad44-411c-a51a-b2315164f67b",
   "metadata": {},
   "outputs": [
    {
     "name": "stdout",
     "output_type": "stream",
     "text": [
      "{'title': 'foo', 'body': 'bar', 'user_id': 1, 'id': 101}\n"
     ]
    }
   ],
   "source": [
    "if response.status_code== 201:\n",
    "    created_post=response.json()\n",
    "    print(created_post)\n",
    "\n",
    "else:\n",
    "    print(\"Failed to create data\")"
   ]
  },
  {
   "cell_type": "markdown",
   "id": "e15b645f-78af-4a9f-bda0-2e7145f53e95",
   "metadata": {},
   "source": [
    "#### Common Status Codes\n",
    "\n",
    "1. 200: OK (The request was successful).\n",
    "1. 201: Created (The resource was successfully created).\n",
    "1. 400: Bad Request (The server could not understand the request).\n",
    "1. 401: Unauthorized (Authentication is required).\n",
    "1. 404: Not Found (The requested resource could not be found).\n",
    "1. 500: Internal Server Error (The server encountered an error)."
   ]
  },
  {
   "cell_type": "markdown",
   "id": "0f6d88d0-343e-449c-9b66-5658ecf92a70",
   "metadata": {},
   "source": [
    "### Currency Conversion API"
   ]
  },
  {
   "cell_type": "code",
   "execution_count": 56,
   "id": "bde09d85-309d-41e4-b2ba-6a95fba46afc",
   "metadata": {},
   "outputs": [],
   "source": [
    "# URL of the API endpoint\n",
    "app_id='454beb31ba984e2a902348b141019e8d'\n",
    "url= f\"https://openexchangerates.org/api/latest.json?app_id={app_id}\"\n",
    "\n",
    "response= requests.get(url)\n",
    "\n"
   ]
  },
  {
   "cell_type": "code",
   "execution_count": 57,
   "id": "e971f856-5579-49a9-a8c2-d6757876248f",
   "metadata": {},
   "outputs": [
    {
     "name": "stdout",
     "output_type": "stream",
     "text": [
      "USD in INR: 87.80051\n"
     ]
    }
   ],
   "source": [
    "\n",
    "if response.status_code== 200:\n",
    "    rate= response.json()\n",
    "    #print(rate)\n",
    "    print(f\"USD in INR: {rate['rates']['INR']}\")\n",
    "\n",
    "else:\n",
    "    print(\"Failed to  Retrived the rates\")"
   ]
  },
  {
   "cell_type": "code",
   "execution_count": null,
   "id": "d8f9ec34-1749-44e3-8780-7fed15ce7dbf",
   "metadata": {},
   "outputs": [],
   "source": []
  }
 ],
 "metadata": {
  "kernelspec": {
   "display_name": "Python 3 (ipykernel)",
   "language": "python",
   "name": "python3"
  },
  "language_info": {
   "codemirror_mode": {
    "name": "ipython",
    "version": 3
   },
   "file_extension": ".py",
   "mimetype": "text/x-python",
   "name": "python",
   "nbconvert_exporter": "python",
   "pygments_lexer": "ipython3",
   "version": "3.12.4"
  }
 },
 "nbformat": 4,
 "nbformat_minor": 5
}
