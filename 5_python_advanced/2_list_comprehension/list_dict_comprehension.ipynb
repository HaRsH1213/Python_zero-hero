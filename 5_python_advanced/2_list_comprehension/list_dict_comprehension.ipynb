{
 "cells": [
  {
   "cell_type": "markdown",
   "id": "650f5584-05fb-4fdb-a4d3-adcd270820e0",
   "metadata": {},
   "source": [
    "<h2 align=\"center\" style=\"color:blue\"> List, Dict Comprehension Tutorial</h2>"
   ]
  },
  {
   "cell_type": "code",
   "execution_count": 2,
   "id": "1840c9b3-a3c5-4e3b-a1c1-42a1a9caa68e",
   "metadata": {},
   "outputs": [
    {
     "data": {
      "text/plain": [
       "[1, 4, 9, 16, 25]"
      ]
     },
     "execution_count": 2,
     "metadata": {},
     "output_type": "execute_result"
    }
   ],
   "source": [
    "numbers = [1,2,3,4,5]\n",
    "sqr_number=[]\n",
    "\n",
    "for num in numbers:\n",
    "    sqr_number.append(num*num)\n",
    "\n",
    "sqr_number"
   ]
  },
  {
   "cell_type": "code",
   "execution_count": 3,
   "id": "4d72f7d2-e741-46b6-86bf-2bfc609f5252",
   "metadata": {},
   "outputs": [
    {
     "data": {
      "text/plain": [
       "[1, 4, 9, 16, 25]"
      ]
     },
     "execution_count": 3,
     "metadata": {},
     "output_type": "execute_result"
    }
   ],
   "source": [
    "sqr_number=[num*num for num in numbers]\n",
    "sqr_number"
   ]
  },
  {
   "cell_type": "markdown",
   "id": "fd283ad1-ffb1-4bd0-b744-3226f844389e",
   "metadata": {},
   "source": [
    "### List Comprehension Offers Better Performance"
   ]
  },
  {
   "cell_type": "code",
   "execution_count": 5,
   "id": "fa99937f-416f-45dd-97d5-b1e1d6b7ea27",
   "metadata": {},
   "outputs": [],
   "source": [
    "import time"
   ]
  },
  {
   "cell_type": "code",
   "execution_count": 8,
   "id": "a4b4ef21-d9a3-4500-95de-022246863365",
   "metadata": {},
   "outputs": [
    {
     "name": "stdout",
     "output_type": "stream",
     "text": [
      "Time taken by for loop : 0.29238152503967285\n"
     ]
    }
   ],
   "source": [
    "\n",
    "numbers = range(1000000)\n",
    "sqr_number=[]\n",
    "start= time.time()\n",
    "for num in numbers:\n",
    "    sqr_number.append(num*num)\n",
    "end= time.time()\n",
    "\n",
    "print('Time taken by for loop :', end-start)"
   ]
  },
  {
   "cell_type": "code",
   "execution_count": 9,
   "id": "8c93db86-b032-4349-afce-4dd8cb48ed57",
   "metadata": {},
   "outputs": [
    {
     "name": "stdout",
     "output_type": "stream",
     "text": [
      "Time taken by List Comprehension : 0.1842503547668457\n"
     ]
    }
   ],
   "source": [
    "start= time.time()\n",
    "sqr_number=[num*num for num in numbers]\n",
    "end= time.time()\n",
    "print('Time taken by List Comprehension :', end-start)"
   ]
  },
  {
   "cell_type": "markdown",
   "id": "df89dfd2-c90e-4014-b329-62406d55a095",
   "metadata": {},
   "source": [
    "### List Comprehension With Two Lists"
   ]
  },
  {
   "cell_type": "code",
   "execution_count": 10,
   "id": "38a09c24-f6bf-4a13-a9b8-6aff6f1bed0f",
   "metadata": {},
   "outputs": [
    {
     "data": {
      "text/plain": [
       "[11.11111111111111, 8.0, 2.0, 25.0]"
      ]
     },
     "execution_count": 10,
     "metadata": {},
     "output_type": "execute_result"
    }
   ],
   "source": [
    "price = [100,120,80,50]\n",
    "earning_per_share = [9, 15, 40, 2]\n",
    "\n",
    "pe=[p/e for p ,e in zip (price,earning_per_share)]\n",
    "pe"
   ]
  },
  {
   "cell_type": "code",
   "execution_count": 11,
   "id": "9c716130-5edc-461b-9508-eb16a03506ce",
   "metadata": {},
   "outputs": [
    {
     "ename": "ZeroDivisionError",
     "evalue": "division by zero",
     "output_type": "error",
     "traceback": [
      "\u001b[1;31m---------------------------------------------------------------------------\u001b[0m",
      "\u001b[1;31mZeroDivisionError\u001b[0m                         Traceback (most recent call last)",
      "Cell \u001b[1;32mIn[11], line 4\u001b[0m\n\u001b[0;32m      1\u001b[0m price \u001b[38;5;241m=\u001b[39m [\u001b[38;5;241m100\u001b[39m,\u001b[38;5;241m120\u001b[39m,\u001b[38;5;241m80\u001b[39m,\u001b[38;5;241m50\u001b[39m]\n\u001b[0;32m      2\u001b[0m earning_per_share \u001b[38;5;241m=\u001b[39m [\u001b[38;5;241m9\u001b[39m, \u001b[38;5;241m0\u001b[39m, \u001b[38;5;241m40\u001b[39m, \u001b[38;5;241m2\u001b[39m]\n\u001b[1;32m----> 4\u001b[0m pe \u001b[38;5;241m=\u001b[39m [\u001b[43mp\u001b[49m\u001b[38;5;241;43m/\u001b[39;49m\u001b[43me\u001b[49m \u001b[38;5;28;01mfor\u001b[39;00m p, e \u001b[38;5;129;01min\u001b[39;00m \u001b[38;5;28mzip\u001b[39m(price, earning_per_share)]\n\u001b[0;32m      5\u001b[0m pe\n",
      "\u001b[1;31mZeroDivisionError\u001b[0m: division by zero"
     ]
    }
   ],
   "source": [
    "price = [100,120,80,50]\n",
    "earning_per_share = [9, 0, 40, 2]\n",
    "\n",
    "pe = [p/e for p, e in zip(price, earning_per_share)]\n",
    "pe"
   ]
  },
  {
   "cell_type": "markdown",
   "id": "9175df8c-6506-475c-b803-d7b14b71e2dc",
   "metadata": {},
   "source": [
    "We have to to do something for handle this error"
   ]
  },
  {
   "cell_type": "code",
   "execution_count": 15,
   "id": "9dd1fc8c-7cb3-45af-81e7-ef9ec93661a3",
   "metadata": {},
   "outputs": [
    {
     "data": {
      "text/plain": [
       "[11.11111111111111, -1, 2.0, 25.0]"
      ]
     },
     "execution_count": 15,
     "metadata": {},
     "output_type": "execute_result"
    }
   ],
   "source": [
    "price = [100,120,80,50]\n",
    "earning_per_share = [9, 0, 40, 2]\n",
    "\n",
    "pe = [p/e if e!=0 else -1 for p, e in zip(price, earning_per_share)]\n",
    "pe"
   ]
  },
  {
   "cell_type": "markdown",
   "id": "d30a5b45-3997-4997-b46a-396d3fe7dd65",
   "metadata": {},
   "source": [
    "### Calling a Function in List Comprehension"
   ]
  },
  {
   "cell_type": "code",
   "execution_count": 16,
   "id": "19777598-b96e-4159-8f68-f2fc2b69421b",
   "metadata": {},
   "outputs": [
    {
     "data": {
      "text/plain": [
       "[5, 6, 6, 4]"
      ]
     },
     "execution_count": 16,
     "metadata": {},
     "output_type": "execute_result"
    }
   ],
   "source": [
    "words = [\"apple\", \"banana\", \"cherry\", \"date\"]\n",
    "lengths= [len(word) for word in words]\n",
    "lengths"
   ]
  },
  {
   "cell_type": "markdown",
   "id": "afea1262-f178-4cea-b338-7aa7d9366039",
   "metadata": {},
   "source": [
    "**Below code shows how you can give a discount to those folks with greater than 100 $ purchase**"
   ]
  },
  {
   "cell_type": "code",
   "execution_count": 20,
   "id": "bf04a05c-cc2f-4a48-9ce1-26bf20deedd8",
   "metadata": {},
   "outputs": [
    {
     "data": {
      "text/plain": [
       "[108.0, 135.0, 180.0]"
      ]
     },
     "execution_count": 20,
     "metadata": {},
     "output_type": "execute_result"
    }
   ],
   "source": [
    "prices = [120, 99, 150, 80, 200]\n",
    "discounted_prices= [price*0.9 for price in prices if price>100]\n",
    "discounted_prices"
   ]
  },
  {
   "cell_type": "markdown",
   "id": "b7014e9c-c434-477a-ac85-0ba3270278f2",
   "metadata": {},
   "source": [
    "### Dictionary Comprehension"
   ]
  },
  {
   "cell_type": "code",
   "execution_count": 21,
   "id": "cff7cce7-9326-464a-a2bb-80642f334619",
   "metadata": {},
   "outputs": [
    {
     "data": {
      "text/plain": [
       "{'Alice': 25, 'Bob': 30, 'Charlie': 35}"
      ]
     },
     "execution_count": 21,
     "metadata": {},
     "output_type": "execute_result"
    }
   ],
   "source": [
    "names = [\"Alice\", \"Bob\", \"Charlie\"]\n",
    "ages = [25, 30, 35]\n",
    "dict={}\n",
    "for name , age in zip(names,ages):\n",
    "    dict[name]=age\n",
    "\n",
    "dict"
   ]
  },
  {
   "cell_type": "code",
   "execution_count": 23,
   "id": "bec97dcd-df14-46d9-a69e-262818b7bb32",
   "metadata": {},
   "outputs": [
    {
     "data": {
      "text/plain": [
       "{'Alice': 25, 'Bob': 30, 'Charlie': 35}"
      ]
     },
     "execution_count": 23,
     "metadata": {},
     "output_type": "execute_result"
    }
   ],
   "source": [
    "dict= {name:age for name , age in zip(names,ages)}\n",
    "dict"
   ]
  },
  {
   "cell_type": "code",
   "execution_count": 24,
   "id": "26d82013-7238-4474-821a-b6b8271ebd40",
   "metadata": {},
   "outputs": [
    {
     "data": {
      "text/plain": [
       "{'Alice': 25, 'Bob': 30, 'Charlie': 35}"
      ]
     },
     "execution_count": 24,
     "metadata": {},
     "output_type": "execute_result"
    }
   ],
   "source": [
    "names = [\"Alice\", \"Bob\", \"Charlie\"]\n",
    "ages = [25, 30, 35]\n",
    "dict={}\n",
    "for i in range(len(names)):\n",
    "    dict[names[i]]=ages[i]\n",
    "\n",
    "dict"
   ]
  },
  {
   "cell_type": "code",
   "execution_count": 25,
   "id": "1c262911-7e8d-4b82-97b0-e81438763588",
   "metadata": {},
   "outputs": [
    {
     "data": {
      "text/plain": [
       "{'Alice': 25, 'Bob': 30, 'Charlie': 35}"
      ]
     },
     "execution_count": 25,
     "metadata": {},
     "output_type": "execute_result"
    }
   ],
   "source": [
    "dict= {names[i]:ages[i] for i in range(len(names))}\n",
    "dict"
   ]
  },
  {
   "cell_type": "markdown",
   "id": "540e0a6d-c028-4f84-bc3c-86e823cb9327",
   "metadata": {},
   "source": [
    "### Set Comprehension"
   ]
  },
  {
   "cell_type": "code",
   "execution_count": 26,
   "id": "70d2b499-2b0d-4ec5-b470-50071550e6cf",
   "metadata": {},
   "outputs": [],
   "source": [
    "transactions = [\n",
    "    {'customer_name': \"Mira\", \"amount\": 56, \"date\": \"2024-08-01\"},\n",
    "    {'customer_name': \"Mira\", \"amount\": 12.3, \"date\": \"2024-09-05\"},\n",
    "    {'customer_name': \"Mohan\", \"amount\": 21, \"date\": \"2024-09-03\"},\n",
    "    {'customer_name': \"Mohan\", \"amount\": 36.8, \"date\": \"2024-09-10\"},\n",
    "    {'customer_name': \"Lucy\", \"amount\": 66.3, \"date\": \"2024-09-10\"}\n",
    "]"
   ]
  },
  {
   "cell_type": "code",
   "execution_count": 28,
   "id": "1c1a77cf-3be7-47a7-a7a3-bb4c6b543edc",
   "metadata": {},
   "outputs": [
    {
     "data": {
      "text/plain": [
       "{'Lucy', 'Mira', 'Mohan'}"
      ]
     },
     "execution_count": 28,
     "metadata": {},
     "output_type": "execute_result"
    }
   ],
   "source": [
    "customers=set()\n",
    "for trans in transactions:\n",
    "    customers.add(trans['customer_name'])\n",
    "\n",
    "customers"
   ]
  },
  {
   "cell_type": "code",
   "execution_count": 29,
   "id": "f951dfc9-b013-4afb-8870-c074d31268fe",
   "metadata": {},
   "outputs": [
    {
     "data": {
      "text/plain": [
       "{'Lucy', 'Mira', 'Mohan'}"
      ]
     },
     "execution_count": 29,
     "metadata": {},
     "output_type": "execute_result"
    }
   ],
   "source": [
    "customers= {trans['customer_name'] for trans in transactions}\n",
    "customers"
   ]
  },
  {
   "cell_type": "code",
   "execution_count": null,
   "id": "50a1a894-3ffe-488f-9226-345643af3470",
   "metadata": {},
   "outputs": [],
   "source": []
  }
 ],
 "metadata": {
  "kernelspec": {
   "display_name": "Python 3 (ipykernel)",
   "language": "python",
   "name": "python3"
  },
  "language_info": {
   "codemirror_mode": {
    "name": "ipython",
    "version": 3
   },
   "file_extension": ".py",
   "mimetype": "text/x-python",
   "name": "python",
   "nbconvert_exporter": "python",
   "pygments_lexer": "ipython3",
   "version": "3.12.4"
  }
 },
 "nbformat": 4,
 "nbformat_minor": 5
}
