{
 "cells": [
  {
   "cell_type": "markdown",
   "id": "52c38415-ff56-487b-968c-ba2243f6375a",
   "metadata": {},
   "source": [
    "<h3 align=\"center\" style=\"color:blue\">Decorators Tutorial</h3>"
   ]
  },
  {
   "cell_type": "markdown",
   "id": "d8a97ee2-cbf9-4f99-b31a-74a1571f2fb8",
   "metadata": {},
   "source": [
    "#### Timing functions without decorators"
   ]
  },
  {
   "cell_type": "code",
   "execution_count": 4,
   "id": "69d58b92-3e20-4948-a113-01f453d11313",
   "metadata": {},
   "outputs": [],
   "source": [
    "import time\n",
    "def get_square(numbers):\n",
    "    result_list=[]\n",
    "    start_time = time.time()\n",
    "    for n in numbers:   \n",
    "        result = n*n\n",
    "        result_list.append(result)\n",
    "    end_time= time.time()\n",
    "    print(f\" get_square took:{(end_time-start_time)*1000} mil seconds\")\n",
    "    return result_list"
   ]
  },
  {
   "cell_type": "code",
   "execution_count": 21,
   "id": "373c3e26-3777-47b3-853b-c4714cbd69d4",
   "metadata": {},
   "outputs": [
    {
     "name": "stdout",
     "output_type": "stream",
     "text": [
      "func._name took: 10.294198989868164 mil seconds \n"
     ]
    }
   ],
   "source": [
    "my_list=range(100000)\n",
    "_=get_square(my_list)"
   ]
  },
  {
   "cell_type": "code",
   "execution_count": 6,
   "id": "e64898b5-87cc-4ec2-8163-6b4ec264c81f",
   "metadata": {},
   "outputs": [],
   "source": [
    "import time\n",
    "def get_cube(numbers):\n",
    "    result_list=[]\n",
    "    start_time = time.time()\n",
    "    for n in numbers:   \n",
    "        result = n*n*n\n",
    "        result_list.append(result)\n",
    "    end_time= time.time()\n",
    "    print(f\" get_cube took:{(end_time-start_time)*1000} mil seconds\")\n",
    "    return result_list"
   ]
  },
  {
   "cell_type": "code",
   "execution_count": 20,
   "id": "8886c6cc-f1ac-4264-8e19-16e64076e95f",
   "metadata": {},
   "outputs": [
    {
     "name": "stdout",
     "output_type": "stream",
     "text": [
      " get_cube took:17.458677291870117 mil seconds\n"
     ]
    }
   ],
   "source": [
    "my_list=range(100000)\n",
    "_=get_cube(my_list)"
   ]
  },
  {
   "cell_type": "markdown",
   "id": "09d28a45-f331-4cfe-962d-6e9e21a19c5f",
   "metadata": {},
   "source": [
    "#### Timing functions with decorator"
   ]
  },
  {
   "cell_type": "code",
   "execution_count": 12,
   "id": "a444eb14-9665-40a2-816a-7f808cba4635",
   "metadata": {},
   "outputs": [],
   "source": [
    "import time\n",
    "def timer(func):\n",
    "    def wrapper(*args,**kwargs):\n",
    "        start= time.time()\n",
    "\n",
    "        result= func(*args,**kwargs)\n",
    "        end= time.time()\n",
    "\n",
    "\n",
    "        print(f\"func._name took: {(end-start)*1000} mil seconds \")\n",
    "        return result\n",
    "    return wrapper\n",
    "        \n",
    "    \n",
    "\n",
    "\n",
    "        "
   ]
  },
  {
   "cell_type": "code",
   "execution_count": 14,
   "id": "ae843afc-cc07-44fb-9fab-82a3c89734bb",
   "metadata": {},
   "outputs": [],
   "source": [
    "@timer\n",
    "def get_squares(numbers):\n",
    "    result_list=[]\n",
    "    for n in numbers:   \n",
    "        result = n*n\n",
    "        result_list.append(result)\n",
    "    return result_list"
   ]
  },
  {
   "cell_type": "code",
   "execution_count": 22,
   "id": "3a4267e2-4d5c-4835-a208-2a0184fb5468",
   "metadata": {},
   "outputs": [
    {
     "name": "stdout",
     "output_type": "stream",
     "text": [
      "func._name took: 7.634401321411133 mil seconds \n"
     ]
    }
   ],
   "source": [
    "my_list=range(100000)\n",
    "_=get_squares(my_list)"
   ]
  },
  {
   "cell_type": "code",
   "execution_count": 16,
   "id": "83dde2a8-e301-4747-af70-2f34c81deee4",
   "metadata": {},
   "outputs": [],
   "source": [
    "@timer\n",
    "def get_cubes(numbers):\n",
    "    result_list=[]\n",
    "    for n in numbers:   \n",
    "        result = n*n*n\n",
    "        result_list.append(result)\n",
    "    return result_list"
   ]
  },
  {
   "cell_type": "code",
   "execution_count": 26,
   "id": "47a928db-2fca-44c7-b613-e9f680a68e82",
   "metadata": {},
   "outputs": [
    {
     "name": "stdout",
     "output_type": "stream",
     "text": [
      "func._name took: 12.932538986206055 mil seconds \n"
     ]
    }
   ],
   "source": [
    "my_list=range(100000)\n",
    "_=get_cubes(my_list)"
   ]
  },
  {
   "cell_type": "markdown",
   "id": "5d5b44d7-7d83-4e4f-94aa-2c8da530ee5e",
   "metadata": {},
   "source": [
    "Decorators are commonly used for,\n",
    "\n",
    "1. Measuring time of the function\n",
    "2. Logging\n",
    "3. Access control\n",
    "4. Caching"
   ]
  },
  {
   "cell_type": "code",
   "execution_count": null,
   "id": "afc46ddc-a304-4891-a261-7a9f58f913ef",
   "metadata": {},
   "outputs": [],
   "source": []
  }
 ],
 "metadata": {
  "kernelspec": {
   "display_name": "Python 3 (ipykernel)",
   "language": "python",
   "name": "python3"
  },
  "language_info": {
   "codemirror_mode": {
    "name": "ipython",
    "version": 3
   },
   "file_extension": ".py",
   "mimetype": "text/x-python",
   "name": "python",
   "nbconvert_exporter": "python",
   "pygments_lexer": "ipython3",
   "version": "3.12.4"
  }
 },
 "nbformat": 4,
 "nbformat_minor": 5
}
