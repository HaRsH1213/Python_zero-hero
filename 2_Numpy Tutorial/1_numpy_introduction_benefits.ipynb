{
 "cells": [
  {
   "cell_type": "code",
   "execution_count": 1,
   "id": "84eecbe0-2fbf-432b-b181-5b699a52aa8f",
   "metadata": {},
   "outputs": [],
   "source": [
    "import numpy as np"
   ]
  },
  {
   "cell_type": "code",
   "execution_count": 2,
   "id": "3233985e-01bf-4993-a3e7-e6103a830227",
   "metadata": {},
   "outputs": [],
   "source": [
    "a= np.array([1,2,3,4])"
   ]
  },
  {
   "cell_type": "code",
   "execution_count": 3,
   "id": "9fddd31f-8861-4988-b396-dc77444137bf",
   "metadata": {},
   "outputs": [
    {
     "data": {
      "text/plain": [
       "array([1, 2, 3, 4])"
      ]
     },
     "execution_count": 3,
     "metadata": {},
     "output_type": "execute_result"
    }
   ],
   "source": [
    "a"
   ]
  },
  {
   "cell_type": "markdown",
   "id": "ae35ee01-e904-44dc-a5f6-6755eb42305f",
   "metadata": {},
   "source": [
    "#                                Numpy Array Vs Python List"
   ]
  },
  {
   "cell_type": "markdown",
   "id": "e5cf1bc4-c63f-4731-8697-0cb12766747e",
   "metadata": {},
   "source": [
    "## Benefit # 1: Less Memory"
   ]
  },
  {
   "cell_type": "code",
   "execution_count": 4,
   "id": "32171999-1434-4462-9e43-69e2e5598086",
   "metadata": {},
   "outputs": [
    {
     "data": {
      "text/plain": [
       "[0, 1, 2, 3, 4]"
      ]
     },
     "execution_count": 4,
     "metadata": {},
     "output_type": "execute_result"
    }
   ],
   "source": [
    "import sys\n",
    "python_list= list(range(100))\n",
    "python_list[:5]"
   ]
  },
  {
   "cell_type": "code",
   "execution_count": 5,
   "id": "b73ccc3f-96a0-44dd-b919-497ca72696d9",
   "metadata": {},
   "outputs": [
    {
     "data": {
      "text/plain": [
       "28"
      ]
     },
     "execution_count": 5,
     "metadata": {},
     "output_type": "execute_result"
    }
   ],
   "source": [
    "sys.getsizeof(python_list[0])"
   ]
  },
  {
   "cell_type": "code",
   "execution_count": 6,
   "id": "d9281c39-5009-4135-be16-9e41b178dd92",
   "metadata": {},
   "outputs": [
    {
     "data": {
      "text/plain": [
       "2800"
      ]
     },
     "execution_count": 6,
     "metadata": {},
     "output_type": "execute_result"
    }
   ],
   "source": [
    "sys.getsizeof(python_list[0])*len(python_list)"
   ]
  },
  {
   "cell_type": "code",
   "execution_count": 7,
   "id": "481281a4-3d4e-4177-b1e9-f9e5033b9fe5",
   "metadata": {},
   "outputs": [
    {
     "data": {
      "text/plain": [
       "array([0, 1, 2, 3, 4])"
      ]
     },
     "execution_count": 7,
     "metadata": {},
     "output_type": "execute_result"
    }
   ],
   "source": [
    "numpy_array=np.arange(100)\n",
    "numpy_array[:5]"
   ]
  },
  {
   "cell_type": "code",
   "execution_count": 11,
   "id": "598ecfbd-7e6d-48fd-976a-9f1e8dca1a97",
   "metadata": {},
   "outputs": [
    {
     "data": {
      "text/plain": [
       "400"
      ]
     },
     "execution_count": 11,
     "metadata": {},
     "output_type": "execute_result"
    }
   ],
   "source": [
    "numpy_array.nbytes"
   ]
  },
  {
   "cell_type": "markdown",
   "id": "f040375c-0b84-49a6-9105-f60fca5d6dcc",
   "metadata": {},
   "source": [
    "as you can see above while numpy array occupies only 400 bytes, the same size list in Python will require 2800 bytes. This shows that nupy array are memory efficient"
   ]
  },
  {
   "cell_type": "markdown",
   "id": "bff96563-7221-4369-89a4-2aac0b18585f",
   "metadata": {},
   "source": [
    "## Benefit # 2: Speed"
   ]
  },
  {
   "cell_type": "code",
   "execution_count": 23,
   "id": "28e33e02-34a9-4917-b877-8f141676e16c",
   "metadata": {},
   "outputs": [
    {
     "name": "stdout",
     "output_type": "stream",
     "text": [
      "Python list took:  0.15449881553649902\n"
     ]
    }
   ],
   "source": [
    "import time\n",
    "Size= 1000000\n",
    "l1=list(range(Size))\n",
    "l2=list(range(Size))\n",
    "start_time=time.time()\n",
    "l3=[a+b for a, b in zip(l1,l2)]\n",
    "end_time=time.time()\n",
    "print(\"Python list took: \", end_time-start_time)"
   ]
  },
  {
   "cell_type": "code",
   "execution_count": 24,
   "id": "a7925a3d-04de-4b82-82a9-aba1d18e1edd",
   "metadata": {},
   "outputs": [
    {
     "name": "stdout",
     "output_type": "stream",
     "text": [
      "Numpy list took:  0.002704143524169922\n"
     ]
    }
   ],
   "source": [
    "n1=np.arange(Size)\n",
    "n2=np.array(Size)\n",
    "start_time=time.time()\n",
    "n3=n1+n2\n",
    "end_time=time.time()\n",
    "print(\"Numpy list took: \", end_time-start_time)"
   ]
  },
  {
   "cell_type": "markdown",
   "id": "07217154-8dd2-438f-9809-6ae58d1901d3",
   "metadata": {},
   "source": [
    "### Benefit # 3: Convenient Use with Built In Functions"
   ]
  },
  {
   "cell_type": "code",
   "execution_count": 26,
   "id": "d35a13db-71c7-43f4-9f65-577a4a6e161d",
   "metadata": {},
   "outputs": [
    {
     "data": {
      "text/plain": [
       "([0, 1, 2], [0, 1, 2])"
      ]
     },
     "execution_count": 26,
     "metadata": {},
     "output_type": "execute_result"
    }
   ],
   "source": [
    "l1= list(range(5))\n",
    "l2= list(range(5))\n",
    "l1[:3],l2[:3]"
   ]
  },
  {
   "cell_type": "code",
   "execution_count": 27,
   "id": "43f240cf-bf2c-41b8-a1d4-7e42c9668405",
   "metadata": {},
   "outputs": [
    {
     "data": {
      "text/plain": [
       "[0, 1, 2, 3, 4, 0, 1, 2, 3, 4]"
      ]
     },
     "execution_count": 27,
     "metadata": {},
     "output_type": "execute_result"
    }
   ],
   "source": [
    "l1+l2"
   ]
  },
  {
   "cell_type": "code",
   "execution_count": 29,
   "id": "0dcd7b37-d0b9-4fba-b36e-c77f5a3607ba",
   "metadata": {},
   "outputs": [
    {
     "data": {
      "text/plain": [
       "[0, 2, 4, 6, 8]"
      ]
     },
     "execution_count": 29,
     "metadata": {},
     "output_type": "execute_result"
    }
   ],
   "source": [
    "l3=[x+y for x , y in zip(l1,l2)]\n",
    "l3"
   ]
  },
  {
   "cell_type": "code",
   "execution_count": 30,
   "id": "510cbbd2-fb22-4ef0-bc10-fde4a3797ef9",
   "metadata": {},
   "outputs": [
    {
     "data": {
      "text/plain": [
       "(array([0, 1, 2, 3, 4]), array([0, 1, 2, 3, 4]))"
      ]
     },
     "execution_count": 30,
     "metadata": {},
     "output_type": "execute_result"
    }
   ],
   "source": [
    "n1= np.arange(5)\n",
    "n2=np.arange(5)\n",
    "n1,n2"
   ]
  },
  {
   "cell_type": "code",
   "execution_count": 32,
   "id": "3dcba83d-d4d2-4b5c-bf13-bc3ee523b588",
   "metadata": {},
   "outputs": [
    {
     "data": {
      "text/plain": [
       "array([0, 2, 4, 6, 8])"
      ]
     },
     "execution_count": 32,
     "metadata": {},
     "output_type": "execute_result"
    }
   ],
   "source": [
    "n3=n1+n2\n",
    "n3"
   ]
  },
  {
   "cell_type": "code",
   "execution_count": 34,
   "id": "bba4a72d-ffa1-4e1e-8d59-38c2f5ae60bc",
   "metadata": {},
   "outputs": [
    {
     "data": {
      "text/plain": [
       "array([ 0,  1,  4,  9, 16])"
      ]
     },
     "execution_count": 34,
     "metadata": {},
     "output_type": "execute_result"
    }
   ],
   "source": [
    "n3=n1*n2\n",
    "n3"
   ]
  },
  {
   "cell_type": "code",
   "execution_count": null,
   "id": "4843b23c-f1d2-4439-a7c5-ac573aa673ba",
   "metadata": {},
   "outputs": [],
   "source": []
  }
 ],
 "metadata": {
  "kernelspec": {
   "display_name": "Python 3 (ipykernel)",
   "language": "python",
   "name": "python3"
  },
  "language_info": {
   "codemirror_mode": {
    "name": "ipython",
    "version": 3
   },
   "file_extension": ".py",
   "mimetype": "text/x-python",
   "name": "python",
   "nbconvert_exporter": "python",
   "pygments_lexer": "ipython3",
   "version": "3.12.4"
  }
 },
 "nbformat": 4,
 "nbformat_minor": 5
}
