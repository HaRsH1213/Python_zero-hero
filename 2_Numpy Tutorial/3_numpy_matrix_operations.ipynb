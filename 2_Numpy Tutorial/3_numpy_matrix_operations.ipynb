{
 "cells": [
  {
   "cell_type": "code",
   "execution_count": 1,
   "id": "4ec6a9f7-273f-4f01-ab7f-0d267ca2c7f1",
   "metadata": {},
   "outputs": [],
   "source": [
    "import numpy as np"
   ]
  },
  {
   "cell_type": "code",
   "execution_count": 2,
   "id": "bc709c55-3fb0-42c4-bc96-b595434eb3c8",
   "metadata": {},
   "outputs": [],
   "source": [
    "# Sales data for Quarter 1 (Matrix 1)\n",
    "# Rows represent different products, columns represent different regions\n",
    "\n",
    "q1 = np.array([\n",
    "    [200, 220, 250],  # Product A\n",
    "    [150, 180, 210],  # Product B\n",
    "    [300, 330, 360]   # Product C\n",
    "])\n",
    "\n",
    "q2 = np.array([\n",
    "    [209, 231, 259],  # Product A\n",
    "    [155, 192, 222],  # Product B\n",
    "    [310, 340, 375]   # Product C\n",
    "])"
   ]
  },
  {
   "cell_type": "markdown",
   "id": "b6e3da35-85d5-4e4b-bf50-bbd47ece6826",
   "metadata": {},
   "source": [
    "### Addition, Substraction, Multiplication, Division"
   ]
  },
  {
   "cell_type": "code",
   "execution_count": 3,
   "id": "6f9e5062-da20-4b14-baa5-6270af4e063d",
   "metadata": {},
   "outputs": [
    {
     "data": {
      "text/plain": [
       "array([[409, 451, 509],\n",
       "       [305, 372, 432],\n",
       "       [610, 670, 735]])"
      ]
     },
     "execution_count": 3,
     "metadata": {},
     "output_type": "execute_result"
    }
   ],
   "source": [
    "# combined sales of Q1 and Q2\n",
    "q1+q2"
   ]
  },
  {
   "cell_type": "code",
   "execution_count": 5,
   "id": "45365486-316a-4bfd-bca2-89832d0f5db1",
   "metadata": {},
   "outputs": [
    {
     "data": {
      "text/plain": [
       "array([[ 9, 11,  9],\n",
       "       [ 5, 12, 12],\n",
       "       [10, 10, 15]])"
      ]
     },
     "execution_count": 5,
     "metadata": {},
     "output_type": "execute_result"
    }
   ],
   "source": [
    "# sales units growth in q2 compared to q1\n",
    "q2-q1"
   ]
  },
  {
   "cell_type": "code",
   "execution_count": 6,
   "id": "c1cee329-e96c-4fd5-9fe5-19dd4c98e784",
   "metadata": {},
   "outputs": [
    {
     "data": {
      "text/plain": [
       "array([[4.5       , 5.        , 3.6       ],\n",
       "       [3.33333333, 6.66666667, 5.71428571],\n",
       "       [3.33333333, 3.03030303, 4.16666667]])"
      ]
     },
     "execution_count": 6,
     "metadata": {},
     "output_type": "execute_result"
    }
   ],
   "source": [
    "# % sales units growth in q2 compared to q1\n",
    "(q2-q1)*100/q1"
   ]
  },
  {
   "cell_type": "code",
   "execution_count": 7,
   "id": "4d6eecd1-33bc-4cc7-a75f-699a9724baf1",
   "metadata": {},
   "outputs": [],
   "source": [
    "prices = np.array([\n",
    "    [10, 12, 11],  # Prices for Product A in different regions\n",
    "    [8,  9,  10],  # Prices for Product B\n",
    "    [15, 16, 17]   # Prices for Product C\n",
    "])"
   ]
  },
  {
   "cell_type": "code",
   "execution_count": 10,
   "id": "ce241fd5-598e-404c-839e-9c8682821b7d",
   "metadata": {},
   "outputs": [
    {
     "data": {
      "text/plain": [
       "array([[2000, 2640, 2750],\n",
       "       [1200, 1620, 2100],\n",
       "       [4500, 5280, 6120]])"
      ]
     },
     "execution_count": 10,
     "metadata": {},
     "output_type": "execute_result"
    }
   ],
   "source": [
    "q1_revenue= q1*prices\n",
    "q1_revenue"
   ]
  },
  {
   "cell_type": "code",
   "execution_count": 15,
   "id": "171f1533-bff0-41f7-aaa9-1a8c51e82ae4",
   "metadata": {},
   "outputs": [
    {
     "data": {
      "text/plain": [
       "array([[ 40. ,  52.8,  55. ],\n",
       "       [ 24. ,  32.4,  42. ],\n",
       "       [ 90. , 105.6, 122.4]])"
      ]
     },
     "execution_count": 15,
     "metadata": {},
     "output_type": "execute_result"
    }
   ],
   "source": [
    "q1_discount=q1_revenue*0.02\n",
    "q1_discount"
   ]
  },
  {
   "cell_type": "code",
   "execution_count": 16,
   "id": "63b0b478-e030-4f82-bf9e-7607107b9171",
   "metadata": {},
   "outputs": [
    {
     "data": {
      "text/plain": [
       "564.2"
      ]
     },
     "execution_count": 16,
     "metadata": {},
     "output_type": "execute_result"
    }
   ],
   "source": [
    "np.sum(q1_discount)"
   ]
  },
  {
   "cell_type": "code",
   "execution_count": 18,
   "id": "d3d61b6f-feb9-4af5-b9b1-771a99b2e0b7",
   "metadata": {},
   "outputs": [
    {
     "data": {
      "text/plain": [
       "array([[1960. , 2587.2, 2695. ],\n",
       "       [1176. , 1587.6, 2058. ],\n",
       "       [4410. , 5174.4, 5997.6]])"
      ]
     },
     "execution_count": 18,
     "metadata": {},
     "output_type": "execute_result"
    }
   ],
   "source": [
    "net_revenue=q1_revenue-q1_discount\n",
    "net_revenue"
   ]
  },
  {
   "cell_type": "markdown",
   "id": "cce2da6a-efc0-4b70-9749-b1e7888a46bd",
   "metadata": {},
   "source": [
    "### Dot, Cross Product"
   ]
  },
  {
   "cell_type": "code",
   "execution_count": 19,
   "id": "b8f5178a-948f-4b94-8217-0a3fda5d9690",
   "metadata": {},
   "outputs": [
    {
     "data": {
      "text/plain": [
       "array([450000, 370000])"
      ]
     },
     "execution_count": 19,
     "metadata": {},
     "output_type": "execute_result"
    }
   ],
   "source": [
    "# first column is square footage, second is bedrooms\n",
    "features = np.array([\n",
    "    [2000, 3], # house 1\n",
    "    [1800, 2]  # house 2\n",
    "])\n",
    "\n",
    "weights= np.array([150, 50000])\n",
    "\n",
    "price= np.dot(features,weights)\n",
    "price"
   ]
  },
  {
   "cell_type": "code",
   "execution_count": 22,
   "id": "c6f94217-10e8-4d55-a90e-37c3503c1560",
   "metadata": {},
   "outputs": [
    {
     "data": {
      "text/plain": [
       "array([-3,  6, -3])"
      ]
     },
     "execution_count": 22,
     "metadata": {},
     "output_type": "execute_result"
    }
   ],
   "source": [
    "c= np.array([1,2,3])\n",
    "d=np.array([4,5,6])\n",
    "np.cross(c,d)"
   ]
  },
  {
   "cell_type": "code",
   "execution_count": null,
   "id": "a442b3d7-dd21-4acd-9561-6f48e7d15554",
   "metadata": {},
   "outputs": [],
   "source": []
  }
 ],
 "metadata": {
  "kernelspec": {
   "display_name": "Python 3 (ipykernel)",
   "language": "python",
   "name": "python3"
  },
  "language_info": {
   "codemirror_mode": {
    "name": "ipython",
    "version": 3
   },
   "file_extension": ".py",
   "mimetype": "text/x-python",
   "name": "python",
   "nbconvert_exporter": "python",
   "pygments_lexer": "ipython3",
   "version": "3.12.4"
  }
 },
 "nbformat": 4,
 "nbformat_minor": 5
}
