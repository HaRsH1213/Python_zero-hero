{
 "cells": [
  {
   "cell_type": "code",
   "execution_count": 1,
   "id": "c6630c71-2b46-4342-a071-def1ccdc5a8d",
   "metadata": {},
   "outputs": [],
   "source": [
    "import numpy as np"
   ]
  },
  {
   "cell_type": "markdown",
   "id": "2aa8d8f4-e8d5-47f1-9c82-ffee34bbe9d9",
   "metadata": {},
   "source": [
    "### Multiple dimensions in numpy arrays"
   ]
  },
  {
   "cell_type": "code",
   "execution_count": 38,
   "id": "8bd90987-236e-47b2-9019-fe50ebe31420",
   "metadata": {},
   "outputs": [
    {
     "data": {
      "text/plain": [
       "(3,)"
      ]
     },
     "execution_count": 38,
     "metadata": {},
     "output_type": "execute_result"
    }
   ],
   "source": [
    "rev_q1=np.array([10,12,9])\n",
    "rev_q1.ndim\n",
    "rev_q1.shape"
   ]
  },
  {
   "cell_type": "code",
   "execution_count": 3,
   "id": "9e862c84-f267-4bff-831d-e75e6ae8acf6",
   "metadata": {},
   "outputs": [
    {
     "data": {
      "text/plain": [
       "array([[10, 12,  9],\n",
       "       [15, 11, 13]])"
      ]
     },
     "execution_count": 3,
     "metadata": {},
     "output_type": "execute_result"
    }
   ],
   "source": [
    "rev=np.array([[10,12,9],[15,11,13]])\n",
    "rev"
   ]
  },
  {
   "cell_type": "code",
   "execution_count": 4,
   "id": "bce0e184-de46-4425-bacd-37d0050f8b5b",
   "metadata": {},
   "outputs": [
    {
     "data": {
      "text/plain": [
       "2"
      ]
     },
     "execution_count": 4,
     "metadata": {},
     "output_type": "execute_result"
    }
   ],
   "source": [
    "rev.ndim"
   ]
  },
  {
   "cell_type": "markdown",
   "id": "4dbf589b-2971-4b9b-b997-1c7fb77d4a81",
   "metadata": {},
   "source": [
    "### Indexing"
   ]
  },
  {
   "cell_type": "code",
   "execution_count": 5,
   "id": "adb6f1d0-1fdb-4f95-9583-52f07dbd44a5",
   "metadata": {},
   "outputs": [
    {
     "data": {
      "text/plain": [
       "15"
      ]
     },
     "execution_count": 5,
     "metadata": {},
     "output_type": "execute_result"
    }
   ],
   "source": [
    "# find revenues of first month of second quarter\n",
    "rev[1,0]"
   ]
  },
  {
   "cell_type": "code",
   "execution_count": 6,
   "id": "2b80d0c2-4d76-41d7-977a-0698ebf069d9",
   "metadata": {},
   "outputs": [
    {
     "data": {
      "text/plain": [
       "array([[10, 12,  9],\n",
       "       [14, 11, 13]])"
      ]
     },
     "execution_count": 6,
     "metadata": {},
     "output_type": "execute_result"
    }
   ],
   "source": [
    "# update revenue of first month of second quarter\n",
    "rev[1,0]=14\n",
    "rev"
   ]
  },
  {
   "cell_type": "markdown",
   "id": "99223acb-e735-4218-a103-fd024cf1657d",
   "metadata": {},
   "source": [
    "### Data type"
   ]
  },
  {
   "cell_type": "code",
   "execution_count": 7,
   "id": "7031562d-ac76-4ee7-b2a7-739598342f3a",
   "metadata": {},
   "outputs": [
    {
     "data": {
      "text/plain": [
       "dtype('int32')"
      ]
     },
     "execution_count": 7,
     "metadata": {},
     "output_type": "execute_result"
    }
   ],
   "source": [
    "rev.dtype"
   ]
  },
  {
   "cell_type": "code",
   "execution_count": 8,
   "id": "a3ada0aa-8b47-483b-963a-b7339fb48637",
   "metadata": {},
   "outputs": [
    {
     "data": {
      "text/plain": [
       "4"
      ]
     },
     "execution_count": 8,
     "metadata": {},
     "output_type": "execute_result"
    }
   ],
   "source": [
    "rev.itemsize"
   ]
  },
  {
   "cell_type": "code",
   "execution_count": 10,
   "id": "7730cb02-b615-4c5b-8cd7-9d8397fee0c2",
   "metadata": {},
   "outputs": [
    {
     "data": {
      "text/plain": [
       "dtype('float64')"
      ]
     },
     "execution_count": 10,
     "metadata": {},
     "output_type": "execute_result"
    }
   ],
   "source": [
    "rev=np.array([[10,12,9],[15,11,13]],dtype=np.float64)\n",
    "rev.dtype"
   ]
  },
  {
   "cell_type": "code",
   "execution_count": 12,
   "id": "2b3ccba5-9cf2-4439-8be1-22b32a3012c5",
   "metadata": {},
   "outputs": [
    {
     "data": {
      "text/plain": [
       "8"
      ]
     },
     "execution_count": 12,
     "metadata": {},
     "output_type": "execute_result"
    }
   ],
   "source": [
    "rev.itemsize"
   ]
  },
  {
   "cell_type": "markdown",
   "id": "25c02b08-40cd-4e62-8539-bd8e43c9ca9a",
   "metadata": {},
   "source": [
    "### Shorting"
   ]
  },
  {
   "cell_type": "code",
   "execution_count": 16,
   "id": "c007e61c-7d35-444c-a7e6-8f51337f76cb",
   "metadata": {},
   "outputs": [
    {
     "data": {
      "text/plain": [
       "array([[10., 11.,  9.],\n",
       "       [15., 12., 13.]])"
      ]
     },
     "execution_count": 16,
     "metadata": {},
     "output_type": "execute_result"
    }
   ],
   "source": [
    "np.sort(rev,axis=0)  #column vise sorting"
   ]
  },
  {
   "cell_type": "code",
   "execution_count": 17,
   "id": "47366418-b137-4642-8680-a2405b748f09",
   "metadata": {},
   "outputs": [
    {
     "data": {
      "text/plain": [
       "array([[ 9., 10., 12.],\n",
       "       [11., 13., 15.]])"
      ]
     },
     "execution_count": 17,
     "metadata": {},
     "output_type": "execute_result"
    }
   ],
   "source": [
    "np.sort(rev,axis=1)  #raw vise sorting"
   ]
  },
  {
   "cell_type": "markdown",
   "id": "19f24d54-171e-44d0-99c3-b71425694a8b",
   "metadata": {},
   "source": [
    "### Zeros, Ones, arange, linspace"
   ]
  },
  {
   "cell_type": "code",
   "execution_count": 19,
   "id": "587d80fd-5dbf-4215-847f-ebadcb6e2c13",
   "metadata": {},
   "outputs": [
    {
     "data": {
      "text/plain": [
       "array([[0., 0., 0.],\n",
       "       [0., 0., 0.]])"
      ]
     },
     "execution_count": 19,
     "metadata": {},
     "output_type": "execute_result"
    }
   ],
   "source": [
    "np.zeros((2,3))"
   ]
  },
  {
   "cell_type": "code",
   "execution_count": 20,
   "id": "1465083d-8d8b-424b-91c7-0d2d7a85664a",
   "metadata": {},
   "outputs": [
    {
     "data": {
      "text/plain": [
       "array([[1., 1., 1.],\n",
       "       [1., 1., 1.]])"
      ]
     },
     "execution_count": 20,
     "metadata": {},
     "output_type": "execute_result"
    }
   ],
   "source": [
    "np.ones((2,3))"
   ]
  },
  {
   "cell_type": "code",
   "execution_count": 21,
   "id": "e6161f63-70f4-48d5-a8d7-25ca5af8dc86",
   "metadata": {},
   "outputs": [
    {
     "data": {
      "text/plain": [
       "array([[1., 1., 1., 1.],\n",
       "       [1., 1., 1., 1.],\n",
       "       [1., 1., 1., 1.]])"
      ]
     },
     "execution_count": 21,
     "metadata": {},
     "output_type": "execute_result"
    }
   ],
   "source": [
    "np.ones((3,4))"
   ]
  },
  {
   "cell_type": "code",
   "execution_count": 22,
   "id": "2e5fdf89-e1a5-4a0a-86f2-6f082a7a100b",
   "metadata": {},
   "outputs": [
    {
     "data": {
      "text/plain": [
       "array([0, 1, 2, 3, 4])"
      ]
     },
     "execution_count": 22,
     "metadata": {},
     "output_type": "execute_result"
    }
   ],
   "source": [
    "np.arange(5)"
   ]
  },
  {
   "cell_type": "code",
   "execution_count": 23,
   "id": "fe08cc81-e864-4f33-8c4b-473323fa2ccc",
   "metadata": {},
   "outputs": [
    {
     "data": {
      "text/plain": [
       "array([10, 11, 12, 13, 14, 15, 16, 17, 18, 19])"
      ]
     },
     "execution_count": 23,
     "metadata": {},
     "output_type": "execute_result"
    }
   ],
   "source": [
    "np.arange(10,20)"
   ]
  },
  {
   "cell_type": "code",
   "execution_count": 27,
   "id": "6ce86112-7fea-4e12-b286-af0be9e19243",
   "metadata": {},
   "outputs": [
    {
     "data": {
      "text/plain": [
       "array([20, 22, 24, 26, 28])"
      ]
     },
     "execution_count": 27,
     "metadata": {},
     "output_type": "execute_result"
    }
   ],
   "source": [
    "np.arange(20,30,2)"
   ]
  },
  {
   "cell_type": "code",
   "execution_count": 28,
   "id": "a5686fe6-362e-4ec1-a159-7a703c4bc884",
   "metadata": {},
   "outputs": [
    {
     "data": {
      "text/plain": [
       "array([10.        , 14.44444444, 18.88888889, 23.33333333, 27.77777778,\n",
       "       32.22222222, 36.66666667, 41.11111111, 45.55555556, 50.        ])"
      ]
     },
     "execution_count": 28,
     "metadata": {},
     "output_type": "execute_result"
    }
   ],
   "source": [
    "np.linspace(10,50,10)"
   ]
  },
  {
   "cell_type": "markdown",
   "id": "a830adcd-2a37-4f3d-a515-feae0c29156a",
   "metadata": {},
   "source": [
    "### flatten, reshape, min, max"
   ]
  },
  {
   "cell_type": "code",
   "execution_count": 29,
   "id": "7132a895-9432-4523-83db-404143cf964a",
   "metadata": {},
   "outputs": [
    {
     "data": {
      "text/plain": [
       "array([[10., 12.,  9.],\n",
       "       [15., 11., 13.]])"
      ]
     },
     "execution_count": 29,
     "metadata": {},
     "output_type": "execute_result"
    }
   ],
   "source": [
    "rev"
   ]
  },
  {
   "cell_type": "code",
   "execution_count": 39,
   "id": "0f67163d-08ac-43a4-84d8-2545485527d0",
   "metadata": {},
   "outputs": [
    {
     "data": {
      "text/plain": [
       "array([10., 12.,  9., 15., 11., 13.])"
      ]
     },
     "execution_count": 39,
     "metadata": {},
     "output_type": "execute_result"
    }
   ],
   "source": [
    "rev.flatten()\n"
   ]
  },
  {
   "cell_type": "code",
   "execution_count": 42,
   "id": "a5e9ad80-62a4-4a4b-8e1f-468a276af04e",
   "metadata": {},
   "outputs": [
    {
     "data": {
      "text/plain": [
       "array([10., 12.,  9., 15., 11., 13.])"
      ]
     },
     "execution_count": 42,
     "metadata": {},
     "output_type": "execute_result"
    }
   ],
   "source": [
    "rev.ravel()\n"
   ]
  },
  {
   "cell_type": "code",
   "execution_count": 45,
   "id": "dfc2a331-2dd2-4455-826f-e431c10ba247",
   "metadata": {},
   "outputs": [
    {
     "data": {
      "text/plain": [
       "array([[10., 12.],\n",
       "       [ 9., 15.],\n",
       "       [11., 13.]])"
      ]
     },
     "execution_count": 45,
     "metadata": {},
     "output_type": "execute_result"
    }
   ],
   "source": [
    "rev.reshape(3,2)"
   ]
  },
  {
   "cell_type": "code",
   "execution_count": 46,
   "id": "cf350914-7804-4076-a1d6-6fdfec5c4704",
   "metadata": {},
   "outputs": [
    {
     "ename": "ValueError",
     "evalue": "cannot reshape array of size 6 into shape (2,4)",
     "output_type": "error",
     "traceback": [
      "\u001b[1;31m---------------------------------------------------------------------------\u001b[0m",
      "\u001b[1;31mValueError\u001b[0m                                Traceback (most recent call last)",
      "Cell \u001b[1;32mIn[46], line 1\u001b[0m\n\u001b[1;32m----> 1\u001b[0m \u001b[43mrev\u001b[49m\u001b[38;5;241;43m.\u001b[39;49m\u001b[43mreshape\u001b[49m\u001b[43m(\u001b[49m\u001b[38;5;241;43m2\u001b[39;49m\u001b[43m,\u001b[49m\u001b[38;5;241;43m4\u001b[39;49m\u001b[43m)\u001b[49m\n",
      "\u001b[1;31mValueError\u001b[0m: cannot reshape array of size 6 into shape (2,4)"
     ]
    }
   ],
   "source": [
    "rev.reshape(2,4)"
   ]
  },
  {
   "cell_type": "code",
   "execution_count": 47,
   "id": "00c8588a-20b6-45e7-bf60-f99771a49816",
   "metadata": {},
   "outputs": [
    {
     "data": {
      "text/plain": [
       "9.0"
      ]
     },
     "execution_count": 47,
     "metadata": {},
     "output_type": "execute_result"
    }
   ],
   "source": [
    "rev.min()"
   ]
  },
  {
   "cell_type": "code",
   "execution_count": 48,
   "id": "f1fb9efd-488c-4283-9e31-661a54f7845f",
   "metadata": {},
   "outputs": [
    {
     "data": {
      "text/plain": [
       "15.0"
      ]
     },
     "execution_count": 48,
     "metadata": {},
     "output_type": "execute_result"
    }
   ],
   "source": [
    "rev.max()"
   ]
  },
  {
   "cell_type": "markdown",
   "id": "bf53e1d5-31ad-4f35-96db-8d09d2101398",
   "metadata": {},
   "source": [
    "### Sum"
   ]
  },
  {
   "cell_type": "code",
   "execution_count": 49,
   "id": "afafaaef-60b1-4aae-8cc8-c8978bd31f7b",
   "metadata": {},
   "outputs": [
    {
     "data": {
      "text/plain": [
       "array([[10., 12.,  9.],\n",
       "       [15., 11., 13.]])"
      ]
     },
     "execution_count": 49,
     "metadata": {},
     "output_type": "execute_result"
    }
   ],
   "source": [
    "rev"
   ]
  },
  {
   "cell_type": "code",
   "execution_count": 52,
   "id": "c56a3d5d-aa5e-44b5-8828-e649e4358bb2",
   "metadata": {},
   "outputs": [
    {
     "data": {
      "text/plain": [
       "array([31., 39.])"
      ]
     },
     "execution_count": 52,
     "metadata": {},
     "output_type": "execute_result"
    }
   ],
   "source": [
    "rev.sum(axis=1) # addding of first raw all and then second raw all"
   ]
  },
  {
   "cell_type": "code",
   "execution_count": 53,
   "id": "1452624d-3748-4fcb-bee8-f4695901850c",
   "metadata": {},
   "outputs": [
    {
     "data": {
      "text/plain": [
       "array([25., 23., 22.])"
      ]
     },
     "execution_count": 53,
     "metadata": {},
     "output_type": "execute_result"
    }
   ],
   "source": [
    "rev.sum(axis=0) #addding of first column all and then second coloms all"
   ]
  },
  {
   "cell_type": "code",
   "execution_count": 54,
   "id": "2ed6b995-5255-4b90-a26b-31c21f3f1da9",
   "metadata": {},
   "outputs": [
    {
     "name": "stdout",
     "output_type": "stream",
     "text": [
      "row: [10. 12.  9.]\n",
      "row: [15. 11. 13.]\n"
     ]
    }
   ],
   "source": [
    "for row in rev:\n",
    "    print(\"row:\",row)"
   ]
  },
  {
   "cell_type": "code",
   "execution_count": 55,
   "id": "c4a45f89-def7-4143-8c7d-4b83cf58e2c0",
   "metadata": {},
   "outputs": [
    {
     "data": {
      "text/plain": [
       "array([1., 2., 4.])"
      ]
     },
     "execution_count": 55,
     "metadata": {},
     "output_type": "execute_result"
    }
   ],
   "source": [
    "b=np.array([1,4,16])\n",
    "np.sqrt(b)"
   ]
  },
  {
   "cell_type": "code",
   "execution_count": 56,
   "id": "7a5c7ddf-5b8a-43b2-aa30-4dd1dfa9a0ca",
   "metadata": {},
   "outputs": [
    {
     "data": {
      "text/plain": [
       "array([  1,  16, 256])"
      ]
     },
     "execution_count": 56,
     "metadata": {},
     "output_type": "execute_result"
    }
   ],
   "source": [
    "np.square(b)"
   ]
  },
  {
   "cell_type": "code",
   "execution_count": 57,
   "id": "fdc37053-adb3-4020-ac0a-fcc24db028ec",
   "metadata": {},
   "outputs": [
    {
     "data": {
      "text/plain": [
       "6.48074069840786"
      ]
     },
     "execution_count": 57,
     "metadata": {},
     "output_type": "execute_result"
    }
   ],
   "source": [
    "np.std(b)"
   ]
  },
  {
   "cell_type": "code",
   "execution_count": null,
   "id": "68130260-a515-4120-a2ef-a9fed2dcf6ad",
   "metadata": {},
   "outputs": [],
   "source": []
  }
 ],
 "metadata": {
  "kernelspec": {
   "display_name": "Python 3 (ipykernel)",
   "language": "python",
   "name": "python3"
  },
  "language_info": {
   "codemirror_mode": {
    "name": "ipython",
    "version": 3
   },
   "file_extension": ".py",
   "mimetype": "text/x-python",
   "name": "python",
   "nbconvert_exporter": "python",
   "pygments_lexer": "ipython3",
   "version": "3.12.4"
  }
 },
 "nbformat": 4,
 "nbformat_minor": 5
}
